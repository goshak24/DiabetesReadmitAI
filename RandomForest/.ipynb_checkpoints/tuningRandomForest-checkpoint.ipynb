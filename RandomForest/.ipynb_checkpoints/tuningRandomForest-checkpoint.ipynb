{
 "cells": [
  {
   "cell_type": "markdown",
   "id": "71c4744f-f31e-483e-bdb9-830419ba8be0",
   "metadata": {},
   "source": [
    "#### Tuning Random Forest"
   ]
  },
  {
   "cell_type": "markdown",
   "id": "959f9c78-793e-4a73-bafc-f8b5c7476eae",
   "metadata": {},
   "source": [
    "#### Initialising Dataset"
   ]
  },
  {
   "cell_type": "markdown",
   "id": "9f6d4502-9572-485e-b8d3-b154db96d311",
   "metadata": {},
   "source": [
    "First we load in the pre-processed dataset"
   ]
  },
  {
   "cell_type": "code",
   "execution_count": 1,
   "id": "d19ebd43-92ec-45ed-b119-24f33b795941",
   "metadata": {},
   "outputs": [],
   "source": [
    "import pandas as pd\n",
    "import matplotlib.pyplot as plt\n",
    "from sklearn.model_selection import train_test_split\n",
    "from sklearn.metrics import accuracy_score, ConfusionMatrixDisplay, confusion_matrix\n",
    "from sklearn.preprocessing import LabelEncoder\n",
    "from sklearn.preprocessing import StandardScaler\n",
    "from sklearn.metrics import precision_score\n",
    "from sklearn.ensemble import RandomForestClassifier\n",
    "from sklearn.metrics import recall_score\n",
    "from sklearn.metrics import f1_score\n",
    "from sklearn.model_selection import ValidationCurveDisplay\n",
    "import numpy as np\n",
    "from sklearn.model_selection import GridSearchCV\n",
    "import time\n",
    "\n",
    "# Read in csv\n",
    "data = pd.read_csv('data/diabetic_data_formatted.csv')\n",
    "\n",
    "\n",
    "# Remove the columns that have ~0.5 or more '?'\n",
    "data.drop(['weight', 'medical_specialty'], axis=1, inplace=True)\n",
    "\n",
    "# Replace <30 or >30 days readmission to YES\n",
    "data['readmitted'] = data['readmitted'].replace(1, 0)\n",
    "data['readmitted'] = data['readmitted'].replace(0, 0)\n",
    "\n",
    "# Select target column to predict\n",
    "X = data.drop(columns=['readmitted'])\n",
    "y = data['readmitted']\n",
    "\n",
    "\n",
    "# Get the unique class names from the target variable\n",
    "class_names = ['YES', 'NO']\n",
    "\n",
    "# Encode strings to unique integers\n",
    "le = LabelEncoder()\n",
    "\n",
    "X_encoded = X\n",
    "y_encoded = y"
   ]
  },
  {
   "cell_type": "markdown",
   "id": "f4839a9d-03e5-4a82-932a-689739517f11",
   "metadata": {},
   "source": [
    "#### Finding baseline performance"
   ]
  },
  {
   "cell_type": "markdown",
   "id": "4d8e21e2-42e8-4845-932a-dc94cf47b5e5",
   "metadata": {},
   "source": [
    "Next to find the baseline performance of the model we run it without any initalised parameters and use random state 42 to split the dataset into training and testing sets. We also created a function to reduce duplicated code."
   ]
  },
  {
   "cell_type": "code",
   "execution_count": 2,
   "id": "2d197102-7ba2-41dd-a496-8df99069334f",
   "metadata": {},
   "outputs": [
    {
     "name": "stdout",
     "output_type": "stream",
     "text": [
      "{'bootstrap': True, 'ccp_alpha': 0.0, 'class_weight': None, 'criterion': 'gini', 'max_depth': None, 'max_features': 'sqrt', 'max_leaf_nodes': None, 'max_samples': None, 'min_impurity_decrease': 0.0, 'min_samples_leaf': 1, 'min_samples_split': 2, 'min_weight_fraction_leaf': 0.0, 'monotonic_cst': None, 'n_estimators': 100, 'n_jobs': None, 'oob_score': False, 'random_state': None, 'verbose': 0, 'warm_start': False}\n",
      "\n",
      "Cross validated score using 4 folds:\n",
      "\n",
      " Accuracy: 0.64\n",
      "\n",
      " Precision: 0.64\n",
      "\n",
      " Recall: 0.64\n",
      "\n",
      " f1: 0.64\n",
      "\n",
      "Execution Time: 30.50s\n"
     ]
    }
   ],
   "source": [
    "# Define the model\n",
    "Random_Forest_model = RandomForestClassifier()\n",
    "\n",
    "def getResults(model):\n",
    "\n",
    "    # start timing the model\n",
    "    start = time.time()\n",
    "    \n",
    "    # Define GridSearchCV parameter grid\n",
    "    param_grid = Random_Forest_model.get_params()\n",
    "\n",
    "    print(param_grid)\n",
    "\n",
    "    for key in param_grid:\n",
    "        param_grid[key] = [param_grid[key]]\n",
    "    \n",
    "    X_train, X_test, y_train, y_test = train_test_split(X_encoded, y_encoded, test_size=0.25, random_state=42)\n",
    "\n",
    "    \n",
    "    # Implement GridSearchCV for SVC\n",
    "    grid_search = GridSearchCV(model, param_grid, cv=4, scoring='accuracy', n_jobs=-1)\n",
    "    \n",
    "    grid_search.fit(X_train, y_train)\n",
    "    \n",
    "    # Get the best model\n",
    "    best_model = grid_search.best_estimator_\n",
    "    \n",
    "    # Predict using the best model\n",
    "    y_pred = best_model.predict(X_test)\n",
    "\n",
    "    \n",
    "    # Evaluate accuracy\n",
    "\n",
    "    print('\\nCross validated score using 4 folds:')\n",
    "        \n",
    "    print('\\n Accuracy: %.2f' % accuracy_score(y_test, y_pred))\n",
    "    \n",
    "\n",
    "    # Evaluate precision\n",
    "    print('\\n Precision: %.2f' % precision_score(y_test, y_pred, average='macro'))\n",
    "\n",
    "    \n",
    "    # Evaluate Recall\n",
    "    print('\\n Recall: %.2f' % recall_score(y_test, y_pred, average='macro'))\n",
    "\n",
    "    \n",
    "    # Evaluate f1\n",
    "    print('\\n f1: %.2f' % f1_score(y_test, y_pred, average='macro'))    \n",
    "\n",
    "\n",
    "    # stop timing the model\n",
    "    end = time.time()\n",
    "\n",
    "    # calcualate total time\n",
    "    execution_time = end - start\n",
    "    \n",
    "    print('\\nExecution Time: %.2f' % execution_time + \"s\")\n",
    "\n",
    "getResults(Random_Forest_model)"
   ]
  },
  {
   "cell_type": "markdown",
   "id": "5825a6eb-ebbd-49f0-9f34-c79553841566",
   "metadata": {},
   "source": [
    "Since a grid search did not finish executing for a simple model such as the perceptron, we went straight to modifying the most impactful hyperparameters."
   ]
  },
  {
   "cell_type": "markdown",
   "id": "451855e9-af90-4ed0-b6ca-4d7183618fa1",
   "metadata": {},
   "source": [
    "#### Creating a validation curve"
   ]
  },
  {
   "cell_type": "markdown",
   "id": "7f51bc72-5348-41b5-b93e-52ea9d143ff6",
   "metadata": {},
   "source": [
    "Next we created a validation curve procedure to display the change in score as a variable is modified."
   ]
  },
  {
   "cell_type": "code",
   "execution_count": 5,
   "id": "94552ecf-25bd-419d-8e41-b3fa21450fa3",
   "metadata": {},
   "outputs": [],
   "source": [
    "def displayValidationCurve(model, p_name, p_range, score):\n",
    "    disp = ValidationCurveDisplay.from_estimator(\n",
    "        RandomForestClassifier(),\n",
    "        X_encoded,\n",
    "        y_encoded,\n",
    "        param_name=p_name,\n",
    "        param_range=p_range,\n",
    "        score_type=\"both\",\n",
    "        n_jobs=-1,\n",
    "        score_name=score,\n",
    "        cv=4\n",
    "    )\n",
    "    disp.ax_.set_title(score + \" Validation Curve for Random Forest\")\n",
    "    disp.ax_.set_xlabel(p_name)\n",
    "    disp.ax_.set_ylim(0.0, 1.1)\n",
    "    plt.show()"
   ]
  },
  {
   "cell_type": "markdown",
   "id": "1b59029b-3a4d-4b61-8a07-20b598d682af",
   "metadata": {
    "jp-MarkdownHeadingCollapsed": true
   },
   "source": [
    "#### Finding the most impactful Random Forest hyperparameters"
   ]
  },
  {
   "cell_type": "markdown",
   "id": "e9eaeb54-718f-43b4-9038-1f831d2b52a7",
   "metadata": {},
   "source": [
    "First we listed the available hyperparameters."
   ]
  },
  {
   "cell_type": "code",
   "execution_count": 29,
   "id": "cf0baebf-03cb-4dfc-b476-4d6c862335fd",
   "metadata": {},
   "outputs": [],
   "source": [
    "Random_Forest_model=RandomForestClassifier(\n",
    "    n_estimators=80,\n",
    "    criterion='gini',\n",
    "    max_depth=None,\n",
    "    min_samples_split=2,\n",
    "    min_samples_leaf=1,\n",
    "    max_features='sqrt',\n",
    "    bootstrap=True,\n",
    "    oob_score=False,\n",
    "    random_state=None,\n",
    "    n_jobs=None,\n",
    "    verbose=0,\n",
    "    warm_start=True,\n",
    "    class_weight=None,\n",
    "    ccp_alpha=0.0,\n",
    "    max_samples=None\n",
    ");"
   ]
  },
  {
   "cell_type": "markdown",
   "id": "a568aaea-f294-4fee-a12d-bf4a46cd6935",
   "metadata": {
    "jp-MarkdownHeadingCollapsed": true
   },
   "source": [
    "#### Choosing the most impactful parameters"
   ]
  },
  {
   "cell_type": "markdown",
   "id": "a414b9b0-25ec-4182-aeb8-75d2d8903f55",
   "metadata": {
    "jp-MarkdownHeadingCollapsed": true
   },
   "source": [
    "##### Finding optimum value for n_estimators"
   ]
  },
  {
   "cell_type": "markdown",
   "id": "757606aa-2e79-45fc-b162-d8e00e7027cb",
   "metadata": {},
   "source": [
    "We believe that n_estimators would be the most impactful parameter to the accuracy score, this is because as the number of trees increases, the accuracy also increases, as the model is able to account for random noise and predict more precisely."
   ]
  },
  {
   "cell_type": "markdown",
   "id": "a75a27a5-a007-4496-8c4f-98caca0a6037",
   "metadata": {},
   "source": [
    "Testing n_estimators values at 30, 80, 130"
   ]
  },
  {
   "cell_type": "code",
   "execution_count": 18,
   "id": "309af6e1-c0d3-48ea-9af5-8e701cd844c7",
   "metadata": {},
   "outputs": [
    {
     "name": "stdout",
     "output_type": "stream",
     "text": [
      "{'bootstrap': True, 'ccp_alpha': 0.0, 'class_weight': None, 'criterion': 'gini', 'max_depth': None, 'max_features': 'sqrt', 'max_leaf_nodes': None, 'max_samples': None, 'min_impurity_decrease': 0.0, 'min_samples_leaf': 1, 'min_samples_split': 2, 'min_weight_fraction_leaf': 0.0, 'monotonic_cst': None, 'n_estimators': 30, 'n_jobs': None, 'oob_score': False, 'random_state': None, 'verbose': 0, 'warm_start': False}\n",
      "testing model:\n",
      "\n",
      "Cross validated score using 4 folds:\n",
      "\n",
      " Accuracy: 0.63\n",
      "\n",
      " Precision: 0.62\n",
      "\n",
      " Recall: 0.62\n",
      "\n",
      " f1: 0.62\n",
      "\n",
      "Execution Time: 8.23s\n"
     ]
    }
   ],
   "source": [
    "Random_Forest_model = RandomForestClassifier(\n",
    "    n_estimators=30,\n",
    ")\n",
    "\n",
    "getResults(Random_Forest_model)"
   ]
  },
  {
   "cell_type": "code",
   "execution_count": 3,
   "id": "bdd7bca2-afad-4f7d-9d50-8b035de06a21",
   "metadata": {},
   "outputs": [
    {
     "name": "stdout",
     "output_type": "stream",
     "text": [
      "{'bootstrap': True, 'ccp_alpha': 0.0, 'class_weight': None, 'criterion': 'gini', 'max_depth': None, 'max_features': 'sqrt', 'max_leaf_nodes': None, 'max_samples': None, 'min_impurity_decrease': 0.0, 'min_samples_leaf': 1, 'min_samples_split': 2, 'min_weight_fraction_leaf': 0.0, 'monotonic_cst': None, 'n_estimators': 80, 'n_jobs': None, 'oob_score': False, 'random_state': None, 'verbose': 0, 'warm_start': False}\n",
      "\n",
      "Cross validated score using 4 folds:\n",
      "\n",
      " Accuracy: 0.64\n",
      "\n",
      " Precision: 0.64\n",
      "\n",
      " Recall: 0.63\n",
      "\n",
      " f1: 0.63\n",
      "\n",
      "Execution Time: 22.49s\n"
     ]
    }
   ],
   "source": [
    "Random_Forest_model = RandomForestClassifier(\n",
    "    n_estimators=80,\n",
    ")\n",
    "\n",
    "getResults(Random_Forest_model)"
   ]
  },
  {
   "cell_type": "code",
   "execution_count": 4,
   "id": "09344d4a-1cb3-45ba-88d3-c96b869e790b",
   "metadata": {},
   "outputs": [
    {
     "name": "stdout",
     "output_type": "stream",
     "text": [
      "{'bootstrap': True, 'ccp_alpha': 0.0, 'class_weight': None, 'criterion': 'gini', 'max_depth': None, 'max_features': 'sqrt', 'max_leaf_nodes': None, 'max_samples': None, 'min_impurity_decrease': 0.0, 'min_samples_leaf': 1, 'min_samples_split': 2, 'min_weight_fraction_leaf': 0.0, 'monotonic_cst': None, 'n_estimators': 130, 'n_jobs': None, 'oob_score': False, 'random_state': None, 'verbose': 0, 'warm_start': False}\n",
      "\n",
      "Cross validated score using 4 folds:\n",
      "\n",
      " Accuracy: 0.64\n",
      "\n",
      " Precision: 0.64\n",
      "\n",
      " Recall: 0.63\n",
      "\n",
      " f1: 0.63\n",
      "\n",
      "Execution Time: 38.53s\n"
     ]
    }
   ],
   "source": [
    "Random_Forest_model = RandomForestClassifier(\n",
    "    n_estimators=130,\n",
    ")\n",
    "\n",
    "getResults(Random_Forest_model)"
   ]
  },
  {
   "cell_type": "code",
   "execution_count": 6,
   "id": "8ad8b4d4-90e7-4d25-8c08-cb42bc33e6e0",
   "metadata": {},
   "outputs": [
    {
     "data": {
      "image/png": "[encoded data removed]",
      "text/plain": [
       "<Figure size 640x480 with 1 Axes>"
      ]
     },
     "metadata": {},
     "output_type": "display_data"
    },
    {
     "data": {
      "image/png": "[encoded data removed]",
      "text/plain": [
       "<Figure size 640x480 with 1 Axes>"
      ]
     },
     "metadata": {},
     "output_type": "display_data"
    },
    {
     "data": {
      "image/png": "[encoded data removed]",
      "text/plain": [
       "<Figure size 640x480 with 1 Axes>"
      ]
     },
     "metadata": {},
     "output_type": "display_data"
    },
    {
     "data": {
      "image/png": "[encoded data removed]",
      "text/plain": [
       "<Figure size 640x480 with 1 Axes>"
      ]
     },
     "metadata": {},
     "output_type": "display_data"
    }
   ],
   "source": [
    "displayValidationCurve(RandomForestClassifier(), \"n_estimators\", [30, 80, 130], \"Accuracy\")\n",
    "displayValidationCurve(RandomForestClassifier(), \"n_estimators\", [30, 80, 130], \"Precision\")\n",
    "displayValidationCurve(RandomForestClassifier(), \"n_estimators\", [30, 80, 130], \"Recall\")\n",
    "displayValidationCurve(RandomForestClassifier(), \"n_estimators\", [30, 80, 130], \"f1\")"
   ]
  },
  {
   "cell_type": "markdown",
   "id": "0ba56fcf-8003-4862-858e-684606f8c376",
   "metadata": {},
   "source": [
    "We found that after 80 iterations the model does not improve in accuracy score and only increases computation time, so the best parameter for n_estimators is 80."
   ]
  },
  {
   "cell_type": "markdown",
   "id": "cb684d82-4886-4e01-8d6a-c218f1842fa0",
   "metadata": {
    "jp-MarkdownHeadingCollapsed": true
   },
   "source": [
    "##### Finding optimum value for criterion"
   ]
  },
  {
   "cell_type": "markdown",
   "id": "de009be9-8893-4b38-b788-b5e3fc1df98a",
   "metadata": {},
   "source": [
    "We decided that modifying the criterion might lead to an increase in accuracy score, this is because Gini often computes in a quicker time as it uses more splits, entropy is more conservative with its splits meaning it can make better decisions and gain a higher accuracy score at the cost of increased computation time."
   ]
  },
  {
   "cell_type": "markdown",
   "id": "3076e246-2f57-4b20-bfe1-520f545b7b3e",
   "metadata": {},
   "source": [
    "Testing criterion values 'gini' and 'entropy'"
   ]
  },
  {
   "cell_type": "code",
   "execution_count": 5,
   "id": "26a2ae01-e3f1-4f93-8295-7b4de60662f2",
   "metadata": {},
   "outputs": [
    {
     "name": "stdout",
     "output_type": "stream",
     "text": [
      "{'bootstrap': True, 'ccp_alpha': 0.0, 'class_weight': None, 'criterion': 'gini', 'max_depth': None, 'max_features': 'sqrt', 'max_leaf_nodes': None, 'max_samples': None, 'min_impurity_decrease': 0.0, 'min_samples_leaf': 1, 'min_samples_split': 2, 'min_weight_fraction_leaf': 0.0, 'monotonic_cst': None, 'n_estimators': 80, 'n_jobs': None, 'oob_score': False, 'random_state': None, 'verbose': 0, 'warm_start': False}\n",
      "\n",
      "Cross validated score using 4 folds:\n",
      "\n",
      " Accuracy: 0.64\n",
      "\n",
      " Precision: 0.64\n",
      "\n",
      " Recall: 0.63\n",
      "\n",
      " f1: 0.63\n",
      "\n",
      "Execution Time: 22.30s\n"
     ]
    }
   ],
   "source": [
    "Random_Forest_model = RandomForestClassifier(\n",
    "    n_estimators=80,\n",
    "    criterion='gini',    \n",
    ")\n",
    "\n",
    "getResults(Random_Forest_model)"
   ]
  },
  {
   "cell_type": "code",
   "execution_count": 6,
   "id": "daad2291-6415-446d-9a36-2b72360f74cf",
   "metadata": {},
   "outputs": [
    {
     "name": "stdout",
     "output_type": "stream",
     "text": [
      "{'bootstrap': True, 'ccp_alpha': 0.0, 'class_weight': None, 'criterion': 'entropy', 'max_depth': None, 'max_features': 'sqrt', 'max_leaf_nodes': None, 'max_samples': None, 'min_impurity_decrease': 0.0, 'min_samples_leaf': 1, 'min_samples_split': 2, 'min_weight_fraction_leaf': 0.0, 'monotonic_cst': None, 'n_estimators': 80, 'n_jobs': None, 'oob_score': False, 'random_state': None, 'verbose': 0, 'warm_start': False}\n",
      "\n",
      "Cross validated score using 4 folds:\n",
      "\n",
      " Accuracy: 0.64\n",
      "\n",
      " Precision: 0.64\n",
      "\n",
      " Recall: 0.63\n",
      "\n",
      " f1: 0.63\n",
      "\n",
      "Execution Time: 24.21s\n"
     ]
    }
   ],
   "source": [
    "Random_Forest_model = RandomForestClassifier(\n",
    "    n_estimators=80,\n",
    "    criterion='entropy',    \n",
    ")\n",
    "\n",
    "getResults(Random_Forest_model)"
   ]
  },
  {
   "cell_type": "markdown",
   "id": "f2f07638-a156-4762-911e-fa2d386621d1",
   "metadata": {},
   "source": [
    "Curve was not plotted for criterion, since they we text fields they were not added to the x-axis, a broken graph was displayed on screen."
   ]
  },
  {
   "cell_type": "markdown",
   "id": "e93e739b-14c0-4116-bcaa-1103264a026a",
   "metadata": {},
   "source": [
    "We saw no performance gain when changing the criterion. We selected 'gini' as it is less computationally expensive than 'entropy' running 1.91s faster."
   ]
  },
  {
   "cell_type": "markdown",
   "id": "1194d62b-a3a1-4229-bf93-930ccf4d4c82",
   "metadata": {
    "jp-MarkdownHeadingCollapsed": true
   },
   "source": [
    "##### Finding optimum value for max_depth"
   ]
  },
  {
   "cell_type": "markdown",
   "id": "67ce1dda-99b0-4a83-8ef5-aa282b4c3982",
   "metadata": {},
   "source": [
    "To improve accuracy performance we chose to modify the max_depth parameter. This is because deep trees can lead to overfitting and with the default parameter set to None, it is likely that this was occuring. Also in the event of no increase in accuracy score we could at least improve training speed as trees that have lower depth can be computed in less time."
   ]
  },
  {
   "cell_type": "markdown",
   "id": "dfbfa7b5-d60e-4494-8b6b-0d1a27e89282",
   "metadata": {},
   "source": [
    "Testing criterion values 10, 20, 50"
   ]
  },
  {
   "cell_type": "code",
   "execution_count": 8,
   "id": "50abfac3-6bfb-4cb7-8d04-431b51676ce6",
   "metadata": {},
   "outputs": [
    {
     "name": "stdout",
     "output_type": "stream",
     "text": [
      "{'bootstrap': True, 'ccp_alpha': 0.0, 'class_weight': None, 'criterion': 'gini', 'max_depth': 10, 'max_features': 'sqrt', 'max_leaf_nodes': None, 'max_samples': None, 'min_impurity_decrease': 0.0, 'min_samples_leaf': 1, 'min_samples_split': 2, 'min_weight_fraction_leaf': 0.0, 'monotonic_cst': None, 'n_estimators': 80, 'n_jobs': None, 'oob_score': False, 'random_state': None, 'verbose': 0, 'warm_start': False}\n",
      "\n",
      "Cross validated score using 4 folds:\n",
      "\n",
      " Accuracy: 0.64\n",
      "\n",
      " Precision: 0.64\n",
      "\n",
      " Recall: 0.63\n",
      "\n",
      " f1: 0.63\n",
      "\n",
      "Execution Time: 11.90s\n"
     ]
    }
   ],
   "source": [
    "Random_Forest_model = RandomForestClassifier(\n",
    "    n_estimators=80,\n",
    "    criterion='gini',\n",
    "    max_depth=10,\n",
    ")\n",
    "\n",
    "getResults(Random_Forest_model)"
   ]
  },
  {
   "cell_type": "code",
   "execution_count": 9,
   "id": "189c0dee-3ddd-4213-9f26-d5ba2ef3c1b1",
   "metadata": {},
   "outputs": [
    {
     "name": "stdout",
     "output_type": "stream",
     "text": [
      "{'bootstrap': True, 'ccp_alpha': 0.0, 'class_weight': None, 'criterion': 'gini', 'max_depth': 20, 'max_features': 'sqrt', 'max_leaf_nodes': None, 'max_samples': None, 'min_impurity_decrease': 0.0, 'min_samples_leaf': 1, 'min_samples_split': 2, 'min_weight_fraction_leaf': 0.0, 'monotonic_cst': None, 'n_estimators': 80, 'n_jobs': None, 'oob_score': False, 'random_state': None, 'verbose': 0, 'warm_start': False}\n",
      "\n",
      "Cross validated score using 4 folds:\n",
      "\n",
      " Accuracy: 0.64\n",
      "\n",
      " Precision: 0.64\n",
      "\n",
      " Recall: 0.63\n",
      "\n",
      " f1: 0.63\n",
      "\n",
      "Execution Time: 18.63s\n"
     ]
    }
   ],
   "source": [
    "Random_Forest_model = RandomForestClassifier(\n",
    "    n_estimators=80,\n",
    "    criterion='gini',\n",
    "    max_depth=20,\n",
    ")\n",
    "\n",
    "getResults(Random_Forest_model)"
   ]
  },
  {
   "cell_type": "code",
   "execution_count": 10,
   "id": "f633602d-1f7f-4d07-9745-0f498d768d97",
   "metadata": {},
   "outputs": [
    {
     "name": "stdout",
     "output_type": "stream",
     "text": [
      "{'bootstrap': True, 'ccp_alpha': 0.0, 'class_weight': None, 'criterion': 'gini', 'max_depth': 50, 'max_features': 'sqrt', 'max_leaf_nodes': None, 'max_samples': None, 'min_impurity_decrease': 0.0, 'min_samples_leaf': 1, 'min_samples_split': 2, 'min_weight_fraction_leaf': 0.0, 'monotonic_cst': None, 'n_estimators': 80, 'n_jobs': None, 'oob_score': False, 'random_state': None, 'verbose': 0, 'warm_start': False}\n",
      "\n",
      "Cross validated score using 4 folds:\n",
      "\n",
      " Accuracy: 0.64\n",
      "\n",
      " Precision: 0.64\n",
      "\n",
      " Recall: 0.63\n",
      "\n",
      " f1: 0.63\n",
      "\n",
      "Execution Time: 22.95s\n"
     ]
    }
   ],
   "source": [
    "Random_Forest_model = RandomForestClassifier(\n",
    "    n_estimators=80,\n",
    "    criterion='gini',\n",
    "    max_depth=50,\n",
    ")\n",
    "\n",
    "getResults(Random_Forest_model)"
   ]
  },
  {
   "cell_type": "code",
   "execution_count": 7,
   "id": "868948c3-c63c-4257-ad32-3254550b4660",
   "metadata": {},
   "outputs": [
    {
     "data": {
      "image/png": "[encoded data removed]",
      "text/plain": [
       "<Figure size 640x480 with 1 Axes>"
      ]
     },
     "metadata": {},
     "output_type": "display_data"
    },
    {
     "data": {
      "image/png": "[encoded data removed]",
      "text/plain": [
       "<Figure size 640x480 with 1 Axes>"
      ]
     },
     "metadata": {},
     "output_type": "display_data"
    },
    {
     "data": {
      "image/png": "[encoded data removed]",
      "text/plain": [
       "<Figure size 640x480 with 1 Axes>"
      ]
     },
     "metadata": {},
     "output_type": "display_data"
    },
    {
     "data": {
      "image/png": "[encoded data removed]",
      "text/plain": [
       "<Figure size 640x480 with 1 Axes>"
      ]
     },
     "metadata": {},
     "output_type": "display_data"
    }
   ],
   "source": [
    "displayValidationCurve(RandomForestClassifier(n_estimators=80, criterion='gini'), \"max_depth\", [10, 20, 50], \"Accuracy\")\n",
    "displayValidationCurve(RandomForestClassifier(n_estimators=80, criterion='gini'), \"max_depth\", [10, 20, 50], \"Precision\")\n",
    "displayValidationCurve(RandomForestClassifier(n_estimators=80, criterion='gini'), \"max_depth\", [10, 20, 50], \"Recall\")\n",
    "displayValidationCurve(RandomForestClassifier(n_estimators=80, criterion='gini'), \"max_depth\", [10, 20, 50], \"f1\")"
   ]
  },
  {
   "cell_type": "markdown",
   "id": "287dc97d-cdf8-4e87-b8d3-76f95d3e970d",
   "metadata": {},
   "source": [
    "With all variations of depth values the test accuracy stayed the same at 0.64. Since there is no change in test accuracy, we can set the max depth to 10 to avoid overfitting and so that the model is easier to run and takes less computation time at 11.90 seconds."
   ]
  },
  {
   "cell_type": "markdown",
   "id": "01890b54-b88c-4a8e-a5eb-d204bb40f529",
   "metadata": {
    "jp-MarkdownHeadingCollapsed": true
   },
   "source": [
    "#### Justifying selection for other parameters"
   ]
  },
  {
   "cell_type": "markdown",
   "id": "d62cd5a3-9c26-43b6-891e-c636f571756e",
   "metadata": {
    "jp-MarkdownHeadingCollapsed": true
   },
   "source": [
    "##### Finding optimum value for min_samples_split"
   ]
  },
  {
   "cell_type": "markdown",
   "id": "d5c1e055-2666-4dcb-b058-14e33720fc3f",
   "metadata": {},
   "source": [
    "The min_samples_split can assit in increasing accuracy, by selecting a lower number of min splits, the tree will grow deeper and find more trends in the data, however this can come at the cost of overfitting if the patterns found are too closely related to the training set."
   ]
  },
  {
   "cell_type": "markdown",
   "id": "3b1637d7-6ffb-4b7a-8c21-03149475162d",
   "metadata": {},
   "source": [
    "Testing min_samples_split values at 0.5, 2, 10"
   ]
  },
  {
   "cell_type": "code",
   "execution_count": 16,
   "id": "3d8e88f0-51cc-491e-be30-58e0493b42c4",
   "metadata": {},
   "outputs": [
    {
     "name": "stdout",
     "output_type": "stream",
     "text": [
      "{'bootstrap': True, 'ccp_alpha': 0.0, 'class_weight': None, 'criterion': 'gini', 'max_depth': 10, 'max_features': 'sqrt', 'max_leaf_nodes': None, 'max_samples': None, 'min_impurity_decrease': 0.0, 'min_samples_leaf': 1, 'min_samples_split': 0.5, 'min_weight_fraction_leaf': 0.0, 'monotonic_cst': None, 'n_estimators': 80, 'n_jobs': None, 'oob_score': False, 'random_state': None, 'verbose': 0, 'warm_start': False}\n",
      "\n",
      "Cross validated score using 4 folds:\n",
      "\n",
      " Accuracy: 0.58\n",
      "\n",
      " Precision: 0.63\n",
      "\n",
      " Recall: 0.56\n",
      "\n",
      " f1: 0.50\n",
      "\n",
      "Execution Time: 2.71s\n"
     ]
    }
   ],
   "source": [
    "Random_Forest_model = RandomForestClassifier(\n",
    "    n_estimators=80,\n",
    "    criterion='gini',\n",
    "    max_depth=10,\n",
    "    min_samples_split=0.5,\n",
    ")\n",
    "\n",
    "getResults(Random_Forest_model)"
   ]
  },
  {
   "cell_type": "code",
   "execution_count": 10,
   "id": "12c593e0-5b4a-4b16-b680-bc67c7252b78",
   "metadata": {},
   "outputs": [
    {
     "name": "stdout",
     "output_type": "stream",
     "text": [
      "{'bootstrap': True, 'ccp_alpha': 0.0, 'class_weight': None, 'criterion': 'gini', 'max_depth': 10, 'max_features': 'sqrt', 'max_leaf_nodes': None, 'max_samples': None, 'min_impurity_decrease': 0.0, 'min_samples_leaf': 1, 'min_samples_split': 2, 'min_weight_fraction_leaf': 0.0, 'monotonic_cst': None, 'n_estimators': 80, 'n_jobs': None, 'oob_score': False, 'random_state': None, 'verbose': 0, 'warm_start': False}\n",
      "\n",
      "Cross validated score using 4 folds:\n",
      "\n",
      " Accuracy: 0.64\n",
      "\n",
      " Precision: 0.64\n",
      "\n",
      " Recall: 0.63\n",
      "\n",
      " f1: 0.63\n",
      "\n",
      "Execution Time: 9.72s\n"
     ]
    }
   ],
   "source": [
    "Random_Forest_model = RandomForestClassifier(\n",
    "    n_estimators=80,\n",
    "    criterion='gini',\n",
    "    max_depth=10,\n",
    "    min_samples_split=2,\n",
    ")\n",
    "\n",
    "getResults(Random_Forest_model)"
   ]
  },
  {
   "cell_type": "code",
   "execution_count": 12,
   "id": "77528f05-c1bf-4b97-a1fa-84df6229a16c",
   "metadata": {},
   "outputs": [
    {
     "name": "stdout",
     "output_type": "stream",
     "text": [
      "{'bootstrap': True, 'ccp_alpha': 0.0, 'class_weight': None, 'criterion': 'gini', 'max_depth': 10, 'max_features': 'sqrt', 'max_leaf_nodes': None, 'max_samples': None, 'min_impurity_decrease': 0.0, 'min_samples_leaf': 1, 'min_samples_split': 10, 'min_weight_fraction_leaf': 0.0, 'monotonic_cst': None, 'n_estimators': 80, 'n_jobs': None, 'oob_score': False, 'random_state': None, 'verbose': 0, 'warm_start': False}\n",
      "\n",
      "Cross validated score using 4 folds:\n",
      "\n",
      " Accuracy: 0.64\n",
      "\n",
      " Precision: 0.64\n",
      "\n",
      " Recall: 0.63\n",
      "\n",
      " f1: 0.63\n",
      "\n",
      "Execution Time: 10.87s\n"
     ]
    }
   ],
   "source": [
    "Random_Forest_model = RandomForestClassifier(\n",
    "    n_estimators=80,\n",
    "    criterion='gini',\n",
    "    max_depth=10,\n",
    "    min_samples_split=10,\n",
    ")\n",
    "\n",
    "getResults(Random_Forest_model)"
   ]
  },
  {
   "cell_type": "markdown",
   "id": "b700af82-165f-4ab4-a92e-51f581aca89d",
   "metadata": {},
   "source": [
    "Lowering the min_samples_split to below 2, leads to overfitting of the data and causes the score to drop to 0.53 from 0.64. Increasing the value to greater than 2 does not increase the accuracy further, as expected."
   ]
  },
  {
   "cell_type": "markdown",
   "id": "9aa96161-f036-423f-b2ff-45209316b5e3",
   "metadata": {
    "jp-MarkdownHeadingCollapsed": true
   },
   "source": [
    "##### Finding optimum value for class_weight"
   ]
  },
  {
   "cell_type": "markdown",
   "id": "def0ba0c-cddd-4d92-8661-a09378e0127d",
   "metadata": {},
   "source": [
    "We found that the class was imbalanced when tuning the perceptron, with 7238 more entries for patients who were not readmitted to those that were. So setting the class_weight parameter to balanced should increase accuracy and overall performance of the model."
   ]
  },
  {
   "cell_type": "code",
   "execution_count": 12,
   "id": "14ebf320-e00e-4c0c-be81-676a8748dc26",
   "metadata": {},
   "outputs": [
    {
     "name": "stdout",
     "output_type": "stream",
     "text": [
      "{'bootstrap': True, 'ccp_alpha': 0.0, 'class_weight': None, 'criterion': 'gini', 'max_depth': 10, 'max_features': 'sqrt', 'max_leaf_nodes': None, 'max_samples': None, 'min_impurity_decrease': 0.0, 'min_samples_leaf': 1, 'min_samples_split': 2, 'min_weight_fraction_leaf': 0.0, 'monotonic_cst': None, 'n_estimators': 80, 'n_jobs': None, 'oob_score': False, 'random_state': None, 'verbose': 0, 'warm_start': False}\n",
      "\n",
      "Cross validated score using 4 folds:\n",
      "\n",
      " Accuracy: 0.64\n",
      "\n",
      " Precision: 0.64\n",
      "\n",
      " Recall: 0.63\n",
      "\n",
      " f1: 0.63\n",
      "\n",
      "Execution Time: 11.15s\n"
     ]
    }
   ],
   "source": [
    "Random_Forest_model = RandomForestClassifier(\n",
    "    n_estimators=80,\n",
    "    criterion='gini',\n",
    "    max_depth=10,\n",
    "    class_weight=None\n",
    ")\n",
    "\n",
    "getResults(Random_Forest_model)"
   ]
  },
  {
   "cell_type": "code",
   "execution_count": 7,
   "id": "285ccfcf-5e7a-4429-9df2-f8900d6622ae",
   "metadata": {},
   "outputs": [
    {
     "name": "stdout",
     "output_type": "stream",
     "text": [
      "{'bootstrap': True, 'ccp_alpha': 0.0, 'class_weight': 'balanced', 'criterion': 'gini', 'max_depth': 50, 'max_features': 'sqrt', 'max_leaf_nodes': None, 'max_samples': None, 'min_impurity_decrease': 0.0, 'min_samples_leaf': 1, 'min_samples_split': 2, 'min_weight_fraction_leaf': 0.0, 'monotonic_cst': None, 'n_estimators': 80, 'n_jobs': None, 'oob_score': False, 'random_state': None, 'verbose': 0, 'warm_start': False}\n",
      "\n",
      "Cross validated score using 4 folds:\n",
      "\n",
      " Accuracy: 0.64\n",
      "\n",
      " Precision: 0.64\n",
      "\n",
      " Recall: 0.63\n",
      "\n",
      " f1: 0.63\n",
      "\n",
      "Execution Time: 23.01s\n"
     ]
    }
   ],
   "source": [
    "Random_Forest_model = RandomForestClassifier(\n",
    "    n_estimators=80,\n",
    "    criterion='gini',\n",
    "    max_depth=10,\n",
    "    class_weight='balanced'\n",
    ")\n",
    "\n",
    "getResults(Random_Forest_model)"
   ]
  },
  {
   "cell_type": "markdown",
   "id": "62868d94-963a-4741-99de-cafe91440fbc",
   "metadata": {},
   "source": [
    "The accuracy score stayed the same however, this could be because the tree splits data into random sets and then a single tree trains on that specific set, then the accuracy of all trees are averaged. We left the weighting as balanced, since it took less time to execute (0.85s faster)."
   ]
  },
  {
   "cell_type": "markdown",
   "id": "428dd479-8b3a-47bc-b055-cddddde91599",
   "metadata": {
    "jp-MarkdownHeadingCollapsed": true
   },
   "source": [
    "##### Finding optimum value for min_samples_leaf"
   ]
  },
  {
   "cell_type": "markdown",
   "id": "a06e62be-ca6c-4df6-9e98-059e9f599acd",
   "metadata": {},
   "source": [
    "During testing we found the min_samples_leaf was correlated to max_depth, increasing max_depth from 10 to 50 caused an increase in accuracy"
   ]
  },
  {
   "cell_type": "markdown",
   "id": "f86f46ef-47d0-41ae-b204-3f2285ace8dc",
   "metadata": {},
   "source": [
    "Testing min_samples_leaf values 1, 10, 20"
   ]
  },
  {
   "cell_type": "code",
   "execution_count": 8,
   "id": "f9d55308-5757-433c-82c2-c18ecae77dc5",
   "metadata": {},
   "outputs": [
    {
     "name": "stdout",
     "output_type": "stream",
     "text": [
      "{'bootstrap': True, 'ccp_alpha': 0.0, 'class_weight': 'balanced', 'criterion': 'gini', 'max_depth': 50, 'max_features': 'sqrt', 'max_leaf_nodes': None, 'max_samples': None, 'min_impurity_decrease': 0.0, 'min_samples_leaf': 1, 'min_samples_split': 2, 'min_weight_fraction_leaf': 0.0, 'monotonic_cst': None, 'n_estimators': 80, 'n_jobs': None, 'oob_score': False, 'random_state': None, 'verbose': 0, 'warm_start': False}\n",
      "\n",
      "Cross validated score using 4 folds:\n",
      "\n",
      " Accuracy: 0.63\n",
      "\n",
      " Precision: 0.63\n",
      "\n",
      " Recall: 0.63\n",
      "\n",
      " f1: 0.63\n",
      "\n",
      "Execution Time: 23.56s\n"
     ]
    }
   ],
   "source": [
    "Random_Forest_model = RandomForestClassifier(\n",
    "    n_estimators=80,\n",
    "    criterion='gini',\n",
    "    max_depth=50,\n",
    "    class_weight='balanced',\n",
    "    min_samples_leaf=1\n",
    ")\n",
    "\n",
    "getResults(Random_Forest_model)"
   ]
  },
  {
   "cell_type": "code",
   "execution_count": 9,
   "id": "10fe977d-dd63-41f8-8e77-74a2e8c2c073",
   "metadata": {},
   "outputs": [
    {
     "name": "stdout",
     "output_type": "stream",
     "text": [
      "{'bootstrap': True, 'ccp_alpha': 0.0, 'class_weight': 'balanced', 'criterion': 'gini', 'max_depth': 50, 'max_features': 'sqrt', 'max_leaf_nodes': None, 'max_samples': None, 'min_impurity_decrease': 0.0, 'min_samples_leaf': 10, 'min_samples_split': 2, 'min_weight_fraction_leaf': 0.0, 'monotonic_cst': None, 'n_estimators': 80, 'n_jobs': None, 'oob_score': False, 'random_state': None, 'verbose': 0, 'warm_start': False}\n",
      "\n",
      "Cross validated score using 4 folds:\n",
      "\n",
      " Accuracy: 0.64\n",
      "\n",
      " Precision: 0.64\n",
      "\n",
      " Recall: 0.64\n",
      "\n",
      " f1: 0.64\n",
      "\n",
      "Execution Time: 15.37s\n"
     ]
    }
   ],
   "source": [
    "Random_Forest_model = RandomForestClassifier(\n",
    "    n_estimators=80,\n",
    "    criterion='gini',\n",
    "    max_depth=50,\n",
    "    class_weight='balanced',\n",
    "    min_samples_leaf=10\n",
    ")\n",
    "\n",
    "getResults(Random_Forest_model)"
   ]
  },
  {
   "cell_type": "code",
   "execution_count": 14,
   "id": "c7e3acd4-afdd-4746-9a33-ed3e80d16b81",
   "metadata": {},
   "outputs": [
    {
     "name": "stdout",
     "output_type": "stream",
     "text": [
      "{'bootstrap': True, 'ccp_alpha': 0.0, 'class_weight': 'balanced', 'criterion': 'gini', 'max_depth': 50, 'max_features': 'sqrt', 'max_leaf_nodes': None, 'max_samples': None, 'min_impurity_decrease': 0.0, 'min_samples_leaf': 20, 'min_samples_split': 2, 'min_weight_fraction_leaf': 0.0, 'monotonic_cst': None, 'n_estimators': 80, 'n_jobs': None, 'oob_score': False, 'random_state': None, 'verbose': 0, 'warm_start': False}\n",
      "\n",
      "Cross validated score using 4 folds:\n",
      "\n",
      " Accuracy: 0.65\n",
      "\n",
      " Precision: 0.64\n",
      "\n",
      " Recall: 0.64\n",
      "\n",
      " f1: 0.64\n",
      "\n",
      "Execution Time: 15.14s\n"
     ]
    }
   ],
   "source": [
    "Random_Forest_model = RandomForestClassifier(\n",
    "    n_estimators=80,\n",
    "    criterion='gini',\n",
    "    max_depth=50,\n",
    "    class_weight='balanced',\n",
    "    min_samples_leaf=20\n",
    ")\n",
    "\n",
    "getResults(Random_Forest_model)"
   ]
  },
  {
   "cell_type": "markdown",
   "id": "7218294b-57bc-4257-a4ef-addf1229732c",
   "metadata": {},
   "source": [
    "We kept the min_samples_leaf parameter set at 20, as we found an increase of accuracy score from 0.64 to 0.65, as well as a 10.3s decrease in execution time."
   ]
  },
  {
   "cell_type": "markdown",
   "id": "1b568a52-a0c0-44df-b1be-d74dccfe2736",
   "metadata": {
    "jp-MarkdownHeadingCollapsed": true
   },
   "source": [
    "##### Finding optimum value for max_features"
   ]
  },
  {
   "cell_type": "markdown",
   "id": "84f00834-1a13-4760-a97d-c5638a3f9434",
   "metadata": {},
   "source": [
    "Testing max_features values 0.5, log, sqrt"
   ]
  },
  {
   "cell_type": "code",
   "execution_count": 16,
   "id": "6337bca0-237f-4121-9600-2812313ea9bd",
   "metadata": {},
   "outputs": [
    {
     "name": "stdout",
     "output_type": "stream",
     "text": [
      "{'bootstrap': True, 'ccp_alpha': 0.0, 'class_weight': 'balanced', 'criterion': 'gini', 'max_depth': 50, 'max_features': 0.5, 'max_leaf_nodes': None, 'max_samples': None, 'min_impurity_decrease': 0.0, 'min_samples_leaf': 20, 'min_samples_split': 2, 'min_weight_fraction_leaf': 0.0, 'monotonic_cst': None, 'n_estimators': 80, 'n_jobs': None, 'oob_score': False, 'random_state': None, 'verbose': 0, 'warm_start': False}\n",
      "\n",
      "Cross validated score using 4 folds:\n",
      "\n",
      " Accuracy: 0.64\n",
      "\n",
      " Precision: 0.64\n",
      "\n",
      " Recall: 0.64\n",
      "\n",
      " f1: 0.64\n",
      "\n",
      "Execution Time: 45.59s\n"
     ]
    }
   ],
   "source": [
    "Random_Forest_model = RandomForestClassifier(\n",
    "    n_estimators=80,\n",
    "    criterion='gini',\n",
    "    max_depth=50,\n",
    "    class_weight='balanced',\n",
    "    min_samples_leaf=20,\n",
    "    max_features=0.5\n",
    ")\n",
    "\n",
    "getResults(Random_Forest_model)"
   ]
  },
  {
   "cell_type": "code",
   "execution_count": 17,
   "id": "bd0dbb09-33f4-46e7-9e1a-895b74f9237f",
   "metadata": {},
   "outputs": [
    {
     "name": "stdout",
     "output_type": "stream",
     "text": [
      "{'bootstrap': True, 'ccp_alpha': 0.0, 'class_weight': 'balanced', 'criterion': 'gini', 'max_depth': 50, 'max_features': 'log2', 'max_leaf_nodes': None, 'max_samples': None, 'min_impurity_decrease': 0.0, 'min_samples_leaf': 20, 'min_samples_split': 2, 'min_weight_fraction_leaf': 0.0, 'monotonic_cst': None, 'n_estimators': 80, 'n_jobs': None, 'oob_score': False, 'random_state': None, 'verbose': 0, 'warm_start': False}\n",
      "\n",
      "Cross validated score using 4 folds:\n",
      "\n",
      " Accuracy: 0.64\n",
      "\n",
      " Precision: 0.64\n",
      "\n",
      " Recall: 0.64\n",
      "\n",
      " f1: 0.64\n",
      "\n",
      "Execution Time: 11.73s\n"
     ]
    }
   ],
   "source": [
    "Random_Forest_model = RandomForestClassifier(\n",
    "    n_estimators=80,\n",
    "    criterion='gini',\n",
    "    max_depth=50,\n",
    "    class_weight='balanced',\n",
    "    min_samples_leaf=20,\n",
    "    max_features='log2'\n",
    ")\n",
    "\n",
    "getResults(Random_Forest_model)"
   ]
  },
  {
   "cell_type": "code",
   "execution_count": 18,
   "id": "88b2a305-a47f-4134-ae41-14bde1232c41",
   "metadata": {},
   "outputs": [
    {
     "name": "stdout",
     "output_type": "stream",
     "text": [
      "{'bootstrap': True, 'ccp_alpha': 0.0, 'class_weight': 'balanced', 'criterion': 'gini', 'max_depth': 50, 'max_features': 'sqrt', 'max_leaf_nodes': None, 'max_samples': None, 'min_impurity_decrease': 0.0, 'min_samples_leaf': 20, 'min_samples_split': 2, 'min_weight_fraction_leaf': 0.0, 'monotonic_cst': None, 'n_estimators': 80, 'n_jobs': None, 'oob_score': False, 'random_state': None, 'verbose': 0, 'warm_start': False}\n",
      "\n",
      "Cross validated score using 4 folds:\n",
      "\n",
      " Accuracy: 0.65\n",
      "\n",
      " Precision: 0.64\n",
      "\n",
      " Recall: 0.64\n",
      "\n",
      " f1: 0.64\n",
      "\n",
      "Execution Time: 13.25s\n"
     ]
    }
   ],
   "source": [
    "Random_Forest_model = RandomForestClassifier(\n",
    "    n_estimators=80,\n",
    "    criterion='gini',\n",
    "    max_depth=50,\n",
    "    class_weight='balanced',\n",
    "    min_samples_leaf=20,\n",
    "    max_features='sqrt'\n",
    ")\n",
    "\n",
    "getResults(Random_Forest_model)"
   ]
  },
  {
   "cell_type": "markdown",
   "id": "859f127c-73cb-4f27-a068-73cac8074854",
   "metadata": {},
   "source": [
    "Using max_features set to 0.5 lowered the score by 0.01, so we decided to leave it at the default value of sqrt, this allowed us to maintain 0.65 accuracy as well as keep computation time low at 13.25 compared to 45.59s when using 0.5."
   ]
  },
  {
   "cell_type": "markdown",
   "id": "24fa819f-88b5-4232-95a2-a33accb9773c",
   "metadata": {
    "jp-MarkdownHeadingCollapsed": true
   },
   "source": [
    "##### Justifying value for bootstrap"
   ]
  },
  {
   "cell_type": "markdown",
   "id": "a03b003c-e6e9-4f10-ae6d-3df46fa7ee56",
   "metadata": {
    "jp-MarkdownHeadingCollapsed": true
   },
   "source": [
    "We set the hyper parameter bootstrap to False, as although it creates randomness as each tree is trained on a different subset of the data, reducing overfitting, the accuracy only decreased from 0.65 to 0.64."
   ]
  },
  {
   "cell_type": "code",
   "execution_count": 23,
   "id": "715326ca-cba6-45c0-8be2-60640017e844",
   "metadata": {},
   "outputs": [
    {
     "name": "stdout",
     "output_type": "stream",
     "text": [
      "{'bootstrap': False, 'ccp_alpha': 0.0, 'class_weight': 'balanced', 'criterion': 'gini', 'max_depth': 50, 'max_features': 'sqrt', 'max_leaf_nodes': None, 'max_samples': None, 'min_impurity_decrease': 0.0, 'min_samples_leaf': 20, 'min_samples_split': 2, 'min_weight_fraction_leaf': 0.0, 'monotonic_cst': None, 'n_estimators': 80, 'n_jobs': None, 'oob_score': False, 'random_state': None, 'verbose': 0, 'warm_start': False}\n",
      "\n",
      "Cross validated score using 4 folds:\n",
      "\n",
      " Accuracy: 0.65\n",
      "\n",
      " Precision: 0.64\n",
      "\n",
      " Recall: 0.64\n",
      "\n",
      " f1: 0.64\n",
      "\n",
      "Execution Time: 20.39s\n"
     ]
    }
   ],
   "source": [
    "Random_Forest_model = RandomForestClassifier(\n",
    "    n_estimators=80,\n",
    "    criterion='gini',\n",
    "    max_depth=50,\n",
    "    class_weight='balanced',\n",
    "    min_samples_leaf=20,\n",
    "    max_features='sqrt',\n",
    "    bootstrap = False\n",
    ")\n",
    "\n",
    "getResults(Random_Forest_model)"
   ]
  },
  {
   "cell_type": "code",
   "execution_count": 24,
   "id": "d55feda0-40ea-4188-8b5f-534a76a8a5fe",
   "metadata": {},
   "outputs": [
    {
     "name": "stdout",
     "output_type": "stream",
     "text": [
      "{'bootstrap': True, 'ccp_alpha': 0.0, 'class_weight': 'balanced', 'criterion': 'gini', 'max_depth': 50, 'max_features': 'sqrt', 'max_leaf_nodes': None, 'max_samples': None, 'min_impurity_decrease': 0.0, 'min_samples_leaf': 20, 'min_samples_split': 2, 'min_weight_fraction_leaf': 0.0, 'monotonic_cst': None, 'n_estimators': 80, 'n_jobs': None, 'oob_score': False, 'random_state': None, 'verbose': 0, 'warm_start': False}\n",
      "\n",
      "Cross validated score using 4 folds:\n",
      "\n",
      " Accuracy: 0.64\n",
      "\n",
      " Precision: 0.64\n",
      "\n",
      " Recall: 0.64\n",
      "\n",
      " f1: 0.64\n",
      "\n",
      "Execution Time: 13.48s\n"
     ]
    }
   ],
   "source": [
    "Random_Forest_model = RandomForestClassifier(\n",
    "    n_estimators=80,\n",
    "    criterion='gini',\n",
    "    max_depth=50,\n",
    "    class_weight='balanced',\n",
    "    min_samples_leaf=20,\n",
    "    max_features='sqrt',\n",
    "    bootstrap = True\n",
    ")\n",
    "\n",
    "getResults(Random_Forest_model)"
   ]
  },
  {
   "cell_type": "markdown",
   "id": "2bea3090-ef93-4d1f-93ef-043eda7e8193",
   "metadata": {
    "jp-MarkdownHeadingCollapsed": true
   },
   "source": [
    "##### Justifying value for verbose"
   ]
  },
  {
   "cell_type": "markdown",
   "id": "836241f7-8d74-447e-8151-da2186bfc505",
   "metadata": {},
   "source": [
    "We set Verbose to 0, as we did not require output logs as the model was training.\n"
   ]
  },
  {
   "cell_type": "code",
   "execution_count": 25,
   "id": "2bbf37ba-ab04-4a28-9e46-c97c648bf2e4",
   "metadata": {},
   "outputs": [
    {
     "name": "stdout",
     "output_type": "stream",
     "text": [
      "{'bootstrap': False, 'ccp_alpha': 0.0, 'class_weight': 'balanced', 'criterion': 'gini', 'max_depth': 50, 'max_features': 'sqrt', 'max_leaf_nodes': None, 'max_samples': None, 'min_impurity_decrease': 0.0, 'min_samples_leaf': 20, 'min_samples_split': 2, 'min_weight_fraction_leaf': 0.0, 'monotonic_cst': None, 'n_estimators': 80, 'n_jobs': None, 'oob_score': False, 'random_state': None, 'verbose': 0, 'warm_start': False}\n",
      "\n",
      "Cross validated score using 4 folds:\n",
      "\n",
      " Accuracy: 0.65\n",
      "\n",
      " Precision: 0.64\n",
      "\n",
      " Recall: 0.64\n",
      "\n",
      " f1: 0.64\n",
      "\n",
      "Execution Time: 20.90s\n"
     ]
    }
   ],
   "source": [
    "Random_Forest_model = RandomForestClassifier(\n",
    "    n_estimators=80,\n",
    "    criterion='gini',\n",
    "    max_depth=50,\n",
    "    class_weight='balanced',\n",
    "    min_samples_leaf=20,\n",
    "    max_features='sqrt',\n",
    "    bootstrap = False,\n",
    "    verbose=0\n",
    ")\n",
    "\n",
    "getResults(Random_Forest_model)"
   ]
  },
  {
   "cell_type": "markdown",
   "id": "978005c9-ee69-46db-b71d-c25b022520b2",
   "metadata": {
    "jp-MarkdownHeadingCollapsed": true
   },
   "source": [
    "##### Justifying value for ccp_alpha"
   ]
  },
  {
   "cell_type": "markdown",
   "id": "929c518b-353a-4843-acf2-8c666165d977",
   "metadata": {},
   "source": [
    "We set ccp_alpha to 0.0, to avoid pruning of trees, this allows the trees to grow to their full depth and find trends within the data. "
   ]
  },
  {
   "cell_type": "code",
   "execution_count": 4,
   "id": "11ed4d73-eee7-4da8-8fc9-1c086aeaa8b2",
   "metadata": {},
   "outputs": [
    {
     "name": "stdout",
     "output_type": "stream",
     "text": [
      "{'bootstrap': False, 'ccp_alpha': 0.0, 'class_weight': 'balanced', 'criterion': 'gini', 'max_depth': 50, 'max_features': 'sqrt', 'max_leaf_nodes': None, 'max_samples': None, 'min_impurity_decrease': 0.0, 'min_samples_leaf': 20, 'min_samples_split': 2, 'min_weight_fraction_leaf': 0.0, 'monotonic_cst': None, 'n_estimators': 80, 'n_jobs': None, 'oob_score': False, 'random_state': None, 'verbose': 0, 'warm_start': False}\n",
      "\n",
      "Cross validated score using 4 folds:\n",
      "\n",
      " Accuracy: 0.65\n",
      "\n",
      " Precision: 0.64\n",
      "\n",
      " Recall: 0.64\n",
      "\n",
      " f1: 0.64\n",
      "\n",
      "Execution Time: 21.27s\n"
     ]
    }
   ],
   "source": [
    "Random_Forest_model = RandomForestClassifier(\n",
    "    n_estimators=80,\n",
    "    criterion='gini',\n",
    "    max_depth=50,\n",
    "    class_weight='balanced',\n",
    "    min_samples_leaf=20,\n",
    "    max_features='sqrt',\n",
    "    bootstrap = False,\n",
    "    verbose=0,\n",
    "    ccp_alpha=0.0\n",
    ")\n",
    "\n",
    "getResults(Random_Forest_model)"
   ]
  },
  {
   "cell_type": "markdown",
   "id": "1f9513e4-cf95-40c4-94a7-9ef7635d0348",
   "metadata": {
    "jp-MarkdownHeadingCollapsed": true
   },
   "source": [
    "##### Justifying value for max_leaf_nodes"
   ]
  },
  {
   "cell_type": "markdown",
   "id": "1ebf2834-b88b-4edb-a116-f8dba4a94c19",
   "metadata": {},
   "source": [
    "We set max_leaf_nodes was to None, this allows the tree to have an unlimited number of nodes so that it is not constrained when growing and can improve model accuracy. "
   ]
  },
  {
   "cell_type": "code",
   "execution_count": 3,
   "id": "2774b114-73d3-47f3-9393-a720da871de2",
   "metadata": {},
   "outputs": [
    {
     "name": "stdout",
     "output_type": "stream",
     "text": [
      "{'bootstrap': False, 'ccp_alpha': 0.0, 'class_weight': 'balanced', 'criterion': 'gini', 'max_depth': 50, 'max_features': 'sqrt', 'max_leaf_nodes': None, 'max_samples': None, 'min_impurity_decrease': 0.0, 'min_samples_leaf': 20, 'min_samples_split': 2, 'min_weight_fraction_leaf': 0.0, 'monotonic_cst': None, 'n_estimators': 80, 'n_jobs': None, 'oob_score': False, 'random_state': None, 'verbose': 0, 'warm_start': False}\n",
      "\n",
      "Cross validated score using 4 folds:\n",
      "\n",
      " Accuracy: 0.64\n",
      "\n",
      " Precision: 0.64\n",
      "\n",
      " Recall: 0.64\n",
      "\n",
      " f1: 0.64\n",
      "\n",
      "Execution Time: 21.87s\n"
     ]
    }
   ],
   "source": [
    "Random_Forest_model = RandomForestClassifier(\n",
    "    n_estimators=80,\n",
    "    criterion='gini',\n",
    "    max_depth=50,\n",
    "    class_weight='balanced',\n",
    "    min_samples_leaf=20,\n",
    "    max_features='sqrt',\n",
    "    bootstrap = False,\n",
    "    verbose=0,\n",
    "    ccp_alpha=0.0,\n",
    "    max_leaf_nodes=None\n",
    ")\n",
    "\n",
    "getResults(Random_Forest_model)"
   ]
  },
  {
   "cell_type": "markdown",
   "id": "745d2cc6-a8f3-400e-aa1d-113df13230e4",
   "metadata": {
    "jp-MarkdownHeadingCollapsed": true
   },
   "source": [
    "##### Justifying value for max_samples"
   ]
  },
  {
   "cell_type": "markdown",
   "id": "63a162dd-0308-4d92-ab75-4916f84a50b8",
   "metadata": {},
   "source": [
    "We set max_samples was to None, so that the model can utilise the entire data set when training and therefore reduce under fitting."
   ]
  },
  {
   "cell_type": "code",
   "execution_count": 8,
   "id": "7c0f9dc9-d281-45cf-a86a-384e47f364d8",
   "metadata": {},
   "outputs": [
    {
     "name": "stdout",
     "output_type": "stream",
     "text": [
      "{'bootstrap': False, 'ccp_alpha': 0.0, 'class_weight': 'balanced', 'criterion': 'gini', 'max_depth': 50, 'max_features': 'sqrt', 'max_leaf_nodes': None, 'max_samples': None, 'min_impurity_decrease': 0.0, 'min_samples_leaf': 20, 'min_samples_split': 2, 'min_weight_fraction_leaf': 0.0, 'monotonic_cst': None, 'n_estimators': 80, 'n_jobs': None, 'oob_score': False, 'random_state': None, 'verbose': 0, 'warm_start': False}\n",
      "\n",
      "Cross validated score using 4 folds:\n",
      "\n",
      " Accuracy: 0.65\n",
      "\n",
      " Precision: 0.64\n",
      "\n",
      " Recall: 0.64\n",
      "\n",
      " f1: 0.64\n",
      "\n",
      "Execution Time: 23.52s\n"
     ]
    }
   ],
   "source": [
    "Random_Forest_model = RandomForestClassifier(\n",
    "    n_estimators=80,\n",
    "    criterion='gini',\n",
    "    max_depth=50,\n",
    "    class_weight='balanced',\n",
    "    min_samples_leaf=20,\n",
    "    max_features='sqrt',\n",
    "    bootstrap = False,\n",
    "    verbose=0,\n",
    "    ccp_alpha=0.0,\n",
    "    max_leaf_nodes=None,\n",
    "    max_samples=None\n",
    ")\n",
    "\n",
    "getResults(Random_Forest_model)"
   ]
  },
  {
   "cell_type": "markdown",
   "id": "fc37d245-fb6f-4088-a793-3d2c411bc5ba",
   "metadata": {
    "jp-MarkdownHeadingCollapsed": true
   },
   "source": [
    "##### Justifying value for min_impurity_decrease"
   ]
  },
  {
   "cell_type": "markdown",
   "id": "0d94eacc-851d-4a47-b5ba-66a10d68ef34",
   "metadata": {},
   "source": [
    "We set min_impurity_decrease to 0.0, this ensures that the impurity is not a factor and the overall model's performance is prioritised. "
   ]
  },
  {
   "cell_type": "code",
   "execution_count": 3,
   "id": "038f9214-a91b-4dc6-8877-e1917dc9b970",
   "metadata": {},
   "outputs": [
    {
     "name": "stdout",
     "output_type": "stream",
     "text": [
      "{'bootstrap': False, 'ccp_alpha': 0.0, 'class_weight': 'balanced', 'criterion': 'gini', 'max_depth': 50, 'max_features': 'sqrt', 'max_leaf_nodes': None, 'max_samples': None, 'min_impurity_decrease': 0.0, 'min_samples_leaf': 20, 'min_samples_split': 2, 'min_weight_fraction_leaf': 0.0, 'monotonic_cst': None, 'n_estimators': 80, 'n_jobs': None, 'oob_score': False, 'random_state': None, 'verbose': 0, 'warm_start': False}\n",
      "\n",
      "Cross validated score using 4 folds:\n",
      "\n",
      " Accuracy: 0.64\n",
      "\n",
      " Precision: 0.64\n",
      "\n",
      " Recall: 0.64\n",
      "\n",
      " f1: 0.64\n",
      "\n",
      "Execution Time: 21.98s\n"
     ]
    }
   ],
   "source": [
    "Random_Forest_model = RandomForestClassifier(\n",
    "    n_estimators=80,\n",
    "    criterion='gini',\n",
    "    max_depth=50,\n",
    "    class_weight='balanced',\n",
    "    min_samples_leaf=20,\n",
    "    max_features='sqrt',\n",
    "    bootstrap = False,\n",
    "    verbose=0,\n",
    "    ccp_alpha=0.0,\n",
    "    max_leaf_nodes=None,\n",
    "    max_samples=None,\n",
    "    min_impurity_decrease=0.0\n",
    ")\n",
    "\n",
    "getResults(Random_Forest_model)"
   ]
  },
  {
   "cell_type": "markdown",
   "id": "f48b84bc-9b36-4c8d-a1b8-d8c64ba5129b",
   "metadata": {
    "jp-MarkdownHeadingCollapsed": true
   },
   "source": [
    "##### Justifying value for monotonic_cst"
   ]
  },
  {
   "cell_type": "markdown",
   "id": "2cbc3c11-b0b7-48af-bfcd-79c036b0d8e9",
   "metadata": {},
   "source": [
    "We set monotonic_cst was to false as we did not require constraints on the input features and instead wanted the model to find complex patterns in the data. N_jobs was set to None, so that only one CPU core was used, this was done to replicate the lower end machines that hospitals might use. "
   ]
  },
  {
   "cell_type": "code",
   "execution_count": 6,
   "id": "a50eb6c5-0609-4a46-8c94-51742b6da378",
   "metadata": {},
   "outputs": [
    {
     "name": "stdout",
     "output_type": "stream",
     "text": [
      "{'bootstrap': False, 'ccp_alpha': 0.0, 'class_weight': 'balanced', 'criterion': 'gini', 'max_depth': 50, 'max_features': 'sqrt', 'max_leaf_nodes': None, 'max_samples': None, 'min_impurity_decrease': 0.0, 'min_samples_leaf': 20, 'min_samples_split': 2, 'min_weight_fraction_leaf': 0.0, 'monotonic_cst': None, 'n_estimators': 80, 'n_jobs': None, 'oob_score': False, 'random_state': None, 'verbose': 0, 'warm_start': False}\n",
      "\n",
      "Cross validated score using 4 folds:\n",
      "\n",
      " Accuracy: 0.65\n",
      "\n",
      " Precision: 0.64\n",
      "\n",
      " Recall: 0.64\n",
      "\n",
      " f1: 0.64\n",
      "\n",
      "Execution Time: 21.84s\n"
     ]
    }
   ],
   "source": [
    "Random_Forest_model = RandomForestClassifier(\n",
    "    n_estimators=80,\n",
    "    criterion='gini',\n",
    "    max_depth=50,\n",
    "    class_weight='balanced',\n",
    "    min_samples_leaf=20,\n",
    "    max_features='sqrt',\n",
    "    bootstrap = False,\n",
    "    verbose=0,\n",
    "    ccp_alpha=0.0,\n",
    "    max_leaf_nodes=None,\n",
    "    max_samples=None,\n",
    "    min_impurity_decrease=0.0,\n",
    "    monotonic_cst=None\n",
    ")\n",
    "\n",
    "getResults(Random_Forest_model)"
   ]
  },
  {
   "cell_type": "markdown",
   "id": "1cd4c335-a9cc-4727-8dd7-9179f49d65c3",
   "metadata": {
    "jp-MarkdownHeadingCollapsed": true
   },
   "source": [
    "##### Justifying value for oob_score"
   ]
  },
  {
   "cell_type": "markdown",
   "id": "3533f30f-47b3-4f38-af0b-9a7ae79cff34",
   "metadata": {},
   "source": [
    "We set oob_score to False as cross validation was already being performed."
   ]
  },
  {
   "cell_type": "code",
   "execution_count": 7,
   "id": "93cbfcae-1807-466e-9c31-12362bbf463a",
   "metadata": {},
   "outputs": [
    {
     "name": "stdout",
     "output_type": "stream",
     "text": [
      "{'bootstrap': False, 'ccp_alpha': 0.0, 'class_weight': 'balanced', 'criterion': 'gini', 'max_depth': 50, 'max_features': 'sqrt', 'max_leaf_nodes': None, 'max_samples': None, 'min_impurity_decrease': 0.0, 'min_samples_leaf': 20, 'min_samples_split': 2, 'min_weight_fraction_leaf': 0.0, 'monotonic_cst': None, 'n_estimators': 80, 'n_jobs': None, 'oob_score': False, 'random_state': None, 'verbose': 0, 'warm_start': False}\n",
      "\n",
      "Cross validated score using 4 folds:\n",
      "\n",
      " Accuracy: 0.64\n",
      "\n",
      " Precision: 0.64\n",
      "\n",
      " Recall: 0.64\n",
      "\n",
      " f1: 0.64\n",
      "\n",
      "Execution Time: 20.41s\n"
     ]
    }
   ],
   "source": [
    "Random_Forest_model = RandomForestClassifier(\n",
    "    n_estimators=80,\n",
    "    criterion='gini',\n",
    "    max_depth=50,\n",
    "    class_weight='balanced',\n",
    "    min_samples_leaf=20,\n",
    "    max_features='sqrt',\n",
    "    bootstrap = False,\n",
    "    verbose=0,\n",
    "    ccp_alpha=0.0,\n",
    "    max_leaf_nodes=None,\n",
    "    max_samples=None,\n",
    "    min_impurity_decrease=0.0,\n",
    "    monotonic_cst=None,\n",
    "    oob_score=False\n",
    ")\n",
    "\n",
    "getResults(Random_Forest_model)"
   ]
  },
  {
   "cell_type": "markdown",
   "id": "59709d49-fd3d-484a-987c-15425ec14f30",
   "metadata": {
    "jp-MarkdownHeadingCollapsed": true
   },
   "source": [
    "##### Justifying value for random_state"
   ]
  },
  {
   "cell_type": "markdown",
   "id": "c780063b-cef4-46b8-a719-c2df92528594",
   "metadata": {},
   "source": [
    "We set random_state to None , as the grid search cross fold already sets which random state to use, this ensures all models use the same state and the scores are reproducible."
   ]
  },
  {
   "cell_type": "code",
   "execution_count": 9,
   "id": "5a903eb6-0b05-45c7-bcad-d86e9e415182",
   "metadata": {},
   "outputs": [
    {
     "name": "stdout",
     "output_type": "stream",
     "text": [
      "{'bootstrap': False, 'ccp_alpha': 0.0, 'class_weight': 'balanced', 'criterion': 'gini', 'max_depth': 50, 'max_features': 'sqrt', 'max_leaf_nodes': None, 'max_samples': None, 'min_impurity_decrease': 0.0, 'min_samples_leaf': 20, 'min_samples_split': 2, 'min_weight_fraction_leaf': 0.0, 'monotonic_cst': None, 'n_estimators': 80, 'n_jobs': None, 'oob_score': False, 'random_state': None, 'verbose': 0, 'warm_start': False}\n",
      "\n",
      "Cross validated score using 4 folds:\n",
      "\n",
      " Accuracy: 0.64\n",
      "\n",
      " Precision: 0.64\n",
      "\n",
      " Recall: 0.64\n",
      "\n",
      " f1: 0.64\n",
      "\n",
      "Execution Time: 19.30s\n"
     ]
    }
   ],
   "source": [
    "Random_Forest_model = RandomForestClassifier(\n",
    "    n_estimators=80,\n",
    "    criterion='gini',\n",
    "    max_depth=50,\n",
    "    class_weight='balanced',\n",
    "    min_samples_leaf=20,\n",
    "    max_features='sqrt',\n",
    "    bootstrap = False,\n",
    "    verbose=0,\n",
    "    ccp_alpha=0.0,\n",
    "    max_leaf_nodes=None,\n",
    "    max_samples=None,\n",
    "    min_impurity_decrease=0.0,\n",
    "    monotonic_cst=None,\n",
    "    oob_score=False,\n",
    "    random_state=None\n",
    ")\n",
    "\n",
    "getResults(Random_Forest_model)"
   ]
  },
  {
   "cell_type": "markdown",
   "id": "0d7b0a59-1914-46b5-95fb-be5ec0768866",
   "metadata": {
    "jp-MarkdownHeadingCollapsed": true
   },
   "source": [
    "##### Justifying value for warm_start"
   ]
  },
  {
   "cell_type": "markdown",
   "id": "af3aabdf-e8d5-4e9f-959b-9c325d06d558",
   "metadata": {},
   "source": [
    "We set warm_start to False, to stop the model from reusing previously fitted trees, reducing the chances of over-fitting."
   ]
  },
  {
   "cell_type": "code",
   "execution_count": 10,
   "id": "271a0b7f-4852-4075-9015-64af212dc0d8",
   "metadata": {},
   "outputs": [
    {
     "name": "stdout",
     "output_type": "stream",
     "text": [
      "{'bootstrap': False, 'ccp_alpha': 0.0, 'class_weight': 'balanced', 'criterion': 'gini', 'max_depth': 50, 'max_features': 'sqrt', 'max_leaf_nodes': None, 'max_samples': None, 'min_impurity_decrease': 0.0, 'min_samples_leaf': 20, 'min_samples_split': 2, 'min_weight_fraction_leaf': 0.0, 'monotonic_cst': None, 'n_estimators': 80, 'n_jobs': None, 'oob_score': False, 'random_state': None, 'verbose': 0, 'warm_start': False}\n",
      "\n",
      "Cross validated score using 4 folds:\n",
      "\n",
      " Accuracy: 0.64\n",
      "\n",
      " Precision: 0.64\n",
      "\n",
      " Recall: 0.64\n",
      "\n",
      " f1: 0.64\n",
      "\n",
      "Execution Time: 19.56s\n"
     ]
    }
   ],
   "source": [
    "Random_Forest_model = RandomForestClassifier(\n",
    "    n_estimators=80,\n",
    "    criterion='gini',\n",
    "    max_depth=50,\n",
    "    class_weight='balanced',\n",
    "    min_samples_leaf=20,\n",
    "    max_features='sqrt',\n",
    "    bootstrap = False,\n",
    "    verbose=0,\n",
    "    ccp_alpha=0.0,\n",
    "    max_leaf_nodes=None,\n",
    "    max_samples=None,\n",
    "    min_impurity_decrease=0.0,\n",
    "    monotonic_cst=None,\n",
    "    oob_score=False,\n",
    "    random_state=None,\n",
    "    warm_start=False\n",
    ")\n",
    "\n",
    "getResults(Random_Forest_model)"
   ]
  },
  {
   "cell_type": "markdown",
   "id": "310f073c-ff5e-4983-a7e5-645523fb96bd",
   "metadata": {
    "jp-MarkdownHeadingCollapsed": true
   },
   "source": [
    "##### Justifying value for min_samples_split"
   ]
  },
  {
   "cell_type": "markdown",
   "id": "32b20036-726e-46a6-a0bc-58db1bf1a103",
   "metadata": {},
   "source": [
    "We set min_samples_split to 2, setting a value lower than 2 caused overfitting."
   ]
  },
  {
   "cell_type": "code",
   "execution_count": 11,
   "id": "ead7d0cf-4a21-4cb3-bef4-c1e32f4ce73d",
   "metadata": {},
   "outputs": [
    {
     "name": "stdout",
     "output_type": "stream",
     "text": [
      "{'bootstrap': False, 'ccp_alpha': 0.0, 'class_weight': 'balanced', 'criterion': 'gini', 'max_depth': 50, 'max_features': 'sqrt', 'max_leaf_nodes': None, 'max_samples': None, 'min_impurity_decrease': 0.0, 'min_samples_leaf': 20, 'min_samples_split': 2, 'min_weight_fraction_leaf': 0.0, 'monotonic_cst': None, 'n_estimators': 80, 'n_jobs': None, 'oob_score': False, 'random_state': None, 'verbose': 0, 'warm_start': False}\n",
      "\n",
      "Cross validated score using 4 folds:\n",
      "\n",
      " Accuracy: 0.64\n",
      "\n",
      " Precision: 0.64\n",
      "\n",
      " Recall: 0.64\n",
      "\n",
      " f1: 0.64\n",
      "\n",
      "Execution Time: 20.50s\n"
     ]
    }
   ],
   "source": [
    "Random_Forest_model = RandomForestClassifier(\n",
    "    n_estimators=80,\n",
    "    criterion='gini',\n",
    "    max_depth=50,\n",
    "    class_weight='balanced',\n",
    "    min_samples_leaf=20,\n",
    "    max_features='sqrt',\n",
    "    bootstrap = False,\n",
    "    verbose=0,\n",
    "    ccp_alpha=0.0,\n",
    "    max_leaf_nodes=None,\n",
    "    max_samples=None,\n",
    "    min_impurity_decrease=0.0,\n",
    "    monotonic_cst=None,\n",
    "    oob_score=False,\n",
    "    random_state=None,\n",
    "    warm_start=False,\n",
    "    min_samples_split=2\n",
    ")\n",
    "\n",
    "getResults(Random_Forest_model)"
   ]
  },
  {
   "cell_type": "markdown",
   "id": "b5a3c72c-bf98-45a8-a32d-2b0100afc91c",
   "metadata": {},
   "source": [
    "#### Final Parameters for Random Forest"
   ]
  },
  {
   "cell_type": "code",
   "execution_count": 14,
   "id": "7b08b229-13c6-451f-93f0-ab63d5f911c6",
   "metadata": {},
   "outputs": [
    {
     "name": "stdout",
     "output_type": "stream",
     "text": [
      "{'bootstrap': False, 'ccp_alpha': 0.0, 'class_weight': 'balanced', 'criterion': 'gini', 'max_depth': 50, 'max_features': 'sqrt', 'max_leaf_nodes': None, 'max_samples': None, 'min_impurity_decrease': 0.0, 'min_samples_leaf': 20, 'min_samples_split': 2, 'min_weight_fraction_leaf': 0.0, 'monotonic_cst': None, 'n_estimators': 80, 'n_jobs': None, 'oob_score': False, 'random_state': None, 'verbose': 0, 'warm_start': False}\n",
      "\n",
      "Cross validated score using 4 folds:\n",
      "\n",
      " Accuracy: 0.65\n",
      "\n",
      " Precision: 0.65\n",
      "\n",
      " Recall: 0.65\n",
      "\n",
      " f1: 0.65\n",
      "\n",
      "Execution Time: 20.36s\n"
     ]
    }
   ],
   "source": [
    "Random_Forest_model = RandomForestClassifier(\n",
    "    n_estimators=80,\n",
    "    criterion='gini',\n",
    "    max_depth=50,\n",
    "    class_weight='balanced',\n",
    "    min_samples_leaf=20,\n",
    "    max_features='sqrt',\n",
    "    bootstrap = False,\n",
    "    verbose=0,\n",
    "    ccp_alpha=0.0,\n",
    "    max_leaf_nodes=None,\n",
    "    max_samples=None,\n",
    "    min_impurity_decrease=0.0,\n",
    "    monotonic_cst=None,\n",
    "    oob_score=False,\n",
    "    random_state=None,\n",
    "    warm_start=False,\n",
    "    min_samples_split=2\n",
    ")\n",
    "\n",
    "getResults(Random_Forest_model)"
   ]
  }
 ],
 "metadata": {
  "kernelspec": {
   "display_name": "Python 3 (ipykernel)",
   "language": "python",
   "name": "python3"
  },
  "language_info": {
   "codemirror_mode": {
    "name": "ipython",
    "version": 3
   },
   "file_extension": ".py",
   "mimetype": "text/x-python",
   "name": "python",
   "nbconvert_exporter": "python",
   "pygments_lexer": "ipython3",
   "version": "3.12.4"
  }
 },
 "nbformat": 4,
 "nbformat_minor": 5
}
