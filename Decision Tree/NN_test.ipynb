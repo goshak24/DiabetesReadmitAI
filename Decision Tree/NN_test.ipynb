{
 "cells": [
  {
   "cell_type": "markdown",
   "id": "9fdb76bc",
   "metadata": {},
   "source": [
    "# Tuning Neural Net"
   ]
  },
  {
   "cell_type": "code",
   "execution_count": 2,
   "id": "d4196bad",
   "metadata": {},
   "outputs": [],
   "source": [
    "import pandas as pd\n",
    "import numpy as np\n",
    "import time\n",
    "from sklearn.model_selection import train_test_split, GridSearchCV\n",
    "from sklearn.metrics import accuracy_score, precision_score, recall_score, f1_score\n",
    "from sklearn.preprocessing import LabelEncoder, StandardScaler\n",
    "from sklearn.neural_network import MLPClassifier\n",
    "import matplotlib.pyplot as plt\n",
    "from sklearn.model_selection import ValidationCurveDisplay\n",
    "\n",
    "# Load the dataset\n",
    "data = pd.read_csv('data/diabetic_data_formatted.csv')\n",
    "\n",
    "# Remove the columns that have ~0.5 or more '?'\n",
    "data.drop(['weight', 'medical_specialty'], axis=1, inplace=True)\n",
    "\n",
    "# Replace <30 or >30 days readmission to YES\n",
    "data['readmitted'] = data['readmitted'].replace(1, 0)\n",
    "data['readmitted'] = data['readmitted'].replace(0, 0)\n",
    "\n",
    "# Select target column to predict\n",
    "X = data.drop(columns=['readmitted'])\n",
    "y = data['readmitted']\n",
    "\n",
    "\n",
    "# Get the unique class names from the target variable\n",
    "class_names = ['YES', 'NO']\n",
    "\n",
    "# Encode strings to unique integers\n",
    "le = LabelEncoder()\n",
    "\n",
    "X_encoded = X\n",
    "y_encoded = y"
   ]
  },
  {
   "cell_type": "markdown",
   "id": "9a4e1449",
   "metadata": {},
   "source": [
    "# Find Baseline Performance\n",
    "We defien the baseline neural network as one that has a number of neurons in a hiddern layers equal to the number of features"
   ]
  },
  {
   "cell_type": "code",
   "execution_count": 3,
   "id": "f45b3e16",
   "metadata": {},
   "outputs": [
    {
     "name": "stdout",
     "output_type": "stream",
     "text": [
      "{'activation': 'relu', 'alpha': 0.0001, 'batch_size': 'auto', 'beta_1': 0.9, 'beta_2': 0.999, 'early_stopping': False, 'epsilon': 1e-08, 'hidden_layer_sizes': (48, 1), 'learning_rate': 'constant', 'learning_rate_init': 0.001, 'max_fun': 15000, 'max_iter': 200, 'momentum': 0.9, 'n_iter_no_change': 10, 'nesterovs_momentum': True, 'power_t': 0.5, 'random_state': 42, 'shuffle': True, 'solver': 'adam', 'tol': 0.0001, 'validation_fraction': 0.1, 'verbose': False, 'warm_start': False}\n",
      "\n",
      "Cross validated score using 4 folds:\n",
      "\n",
      " Accuracy: 0.53\n",
      "\n",
      " Precision: 0.27\n",
      "\n",
      " Recall: 0.50\n",
      "\n",
      " f1: 0.35\n",
      "\n",
      "Execution Time: 4.49s\n"
     ]
    },
    {
     "name": "stderr",
     "output_type": "stream",
     "text": [
      "C:\\Users\\Adz\\anaconda3\\Lib\\site-packages\\sklearn\\metrics\\_classification.py:1469: UndefinedMetricWarning: Precision is ill-defined and being set to 0.0 in labels with no predicted samples. Use `zero_division` parameter to control this behavior.\n",
      "  _warn_prf(average, modifier, msg_start, len(result))\n"
     ]
    }
   ],
   "source": [
    "# Define baseline neural network model\n",
    "NN_model = MLPClassifier(hidden_layer_sizes=(48,1),random_state=42, max_iter=200)\n",
    "\n",
    "def getResults(model):\n",
    "\n",
    "    # start timing the model\n",
    "    start = time.time()\n",
    "    \n",
    "    # Define GridSearchCV parameter grid\n",
    "    param_grid = NN_model.get_params()\n",
    "\n",
    "    print(param_grid)\n",
    "\n",
    "    for key in param_grid:\n",
    "        param_grid[key] = [param_grid[key]]\n",
    "    \n",
    "    X_train, X_test, y_train, y_test = train_test_split(X_encoded, y_encoded, test_size=0.25, random_state=42)\n",
    "\n",
    "    \n",
    "    # Implement GridSearchCV for SVC\n",
    "    grid_search = GridSearchCV(model, param_grid, cv=4, scoring='accuracy', n_jobs=-1)\n",
    "    \n",
    "    grid_search.fit(X_train, y_train)\n",
    "    \n",
    "    # Get the best model\n",
    "    best_model = grid_search.best_estimator_\n",
    "    \n",
    "    # Predict using the best model\n",
    "    y_pred = best_model.predict(X_test)\n",
    "\n",
    "    \n",
    "    # Evaluate accuracy\n",
    "\n",
    "    print('\\nCross validated score using 4 folds:')\n",
    "        \n",
    "    print('\\n Accuracy: %.2f' % accuracy_score(y_test, y_pred))\n",
    "    \n",
    "\n",
    "    # Evaluate precision\n",
    "    print('\\n Precision: %.2f' % precision_score(y_test, y_pred, average='macro'))\n",
    "\n",
    "    \n",
    "    # Evaluate Recall\n",
    "    print('\\n Recall: %.2f' % recall_score(y_test, y_pred, average='macro'))\n",
    "\n",
    "    \n",
    "    # Evaluate f1\n",
    "    print('\\n f1: %.2f' % f1_score(y_test, y_pred, average='macro'))    \n",
    "\n",
    "\n",
    "    # stop timing the model\n",
    "    end = time.time()\n",
    "\n",
    "    # calcualate total time\n",
    "    execution_time = end - start\n",
    "    \n",
    "    print('\\nExecution Time: %.2f' % execution_time + \"s\")\n",
    "\n",
    "getResults(NN_model)\n"
   ]
  },
  {
   "cell_type": "markdown",
   "id": "d6b88e43",
   "metadata": {},
   "source": [
    "# Creating a Validation Curve "
   ]
  },
  {
   "cell_type": "code",
   "execution_count": 4,
   "id": "6ea670ab",
   "metadata": {},
   "outputs": [],
   "source": [
    "def displayValidationCurve(model, p_name, p_range, score):\n",
    "    disp = ValidationCurveDisplay.from_estimator(\n",
    "        MLPClassifier(),\n",
    "        X_encoded,\n",
    "        y_encoded,\n",
    "        param_name=p_name,\n",
    "        param_range=p_range,\n",
    "        score_type=\"both\",\n",
    "        n_jobs=-1,\n",
    "        score_name=score,\n",
    "        cv=4\n",
    "    )\n",
    "    disp.ax_.set_title(score + \" Validation Curve for Neural Network\")\n",
    "    disp.ax_.set_xlabel(p_name)\n",
    "    disp.ax_.set_ylim(0.0, 1.1)\n",
    "    plt.show()"
   ]
  },
  {
   "cell_type": "markdown",
   "id": "fc192239",
   "metadata": {},
   "source": [
    "# Listing Hyperparamters"
   ]
  },
  {
   "cell_type": "code",
   "execution_count": 5,
   "id": "0fa6019c",
   "metadata": {},
   "outputs": [],
   "source": [
    "NN_model = MLPClassifier(\n",
    "    hidden_layer_sizes=(100,),  # Number of neurons in the hidden layer(s)\n",
    "    activation='relu',          # Activation function for hidden layers: {'identity', 'logistic', 'tanh', 'relu'}\n",
    "    solver='adam',              # Solver for weight optimization: {'lbfgs', 'sgd', 'adam'}\n",
    "    alpha=0.0001,               # L2 penalty (regularization term)\n",
    "    batch_size='auto',          # Size of minibatches for stochastic optimizers\n",
    "    learning_rate='constant',   # Learning rate schedule: {'constant', 'invscaling', 'adaptive'}\n",
    "    learning_rate_init=0.001,   # Initial learning rate\n",
    "    power_t=0.5,                # Exponent for inverse scaling learning rate\n",
    "    max_iter=200,               # Maximum number of iterations\n",
    "    shuffle=True,               # Whether to shuffle samples in each iteration\n",
    "    random_state=None,          # Seed for random number generator\n",
    "    tol=1e-4,                   # Tolerance for optimization termination\n",
    "    verbose=False,              # Whether to print progress messages\n",
    "    warm_start=False,           # Whether to reuse the solution from a previous call\n",
    "    momentum=0.9,               # Momentum for gradient descent update\n",
    "    n_iter_no_change=10,        # Max iterations without improvement to terminate\n",
    "    early_stopping=False,       # Whether to use early stopping\n",
    "    validation_fraction=0.1,    # Proportion of training data for validation (if early_stopping=True)\n",
    "    beta_1=0.9,                 # Exponential decay rate for 1st moment in Adam optimizer\n",
    "    beta_2=0.999,               # Exponential decay rate for 2nd moment in Adam optimizer\n",
    "    epsilon=1e-8,               # Value for numerical stability in Adam optimizer\n",
    ")"
   ]
  },
  {
   "cell_type": "markdown",
   "id": "21c62a4d",
   "metadata": {},
   "source": [
    "# Choosing the most impactful parameters\n",
    "Finding optimum value for hidden layers\n",
    "We believe that hidden layers would be the most impactful parameter to the accuracy score, this is because as the number of layers increases the model is able to make more deep connections.\n",
    "\n",
    "Testing hidden layers at sizes (50,1), (100,1) and (200,1)"
   ]
  },
  {
   "cell_type": "code",
   "execution_count": 6,
   "id": "b9833ff3",
   "metadata": {},
   "outputs": [
    {
     "name": "stdout",
     "output_type": "stream",
     "text": [
      "{'activation': 'relu', 'alpha': 0.0001, 'batch_size': 'auto', 'beta_1': 0.9, 'beta_2': 0.999, 'early_stopping': False, 'epsilon': 1e-08, 'hidden_layer_sizes': (50, 1), 'learning_rate': 'constant', 'learning_rate_init': 0.001, 'max_fun': 15000, 'max_iter': 200, 'momentum': 0.9, 'n_iter_no_change': 10, 'nesterovs_momentum': True, 'power_t': 0.5, 'random_state': None, 'shuffle': True, 'solver': 'adam', 'tol': 0.0001, 'validation_fraction': 0.1, 'verbose': False, 'warm_start': False}\n",
      "\n",
      "Cross validated score using 4 folds:\n",
      "\n",
      " Accuracy: 0.61\n",
      "\n",
      " Precision: 0.61\n",
      "\n",
      " Recall: 0.61\n",
      "\n",
      " f1: 0.61\n",
      "\n",
      "Execution Time: 6.17s\n"
     ]
    }
   ],
   "source": [
    "NN_model = MLPClassifier(\n",
    "    hidden_layer_sizes=(50,1)\n",
    ")\n",
    "getResults(NN_model)"
   ]
  },
  {
   "cell_type": "code",
   "execution_count": 7,
   "id": "9c5845dc",
   "metadata": {},
   "outputs": [
    {
     "name": "stdout",
     "output_type": "stream",
     "text": [
      "{'activation': 'relu', 'alpha': 0.0001, 'batch_size': 'auto', 'beta_1': 0.9, 'beta_2': 0.999, 'early_stopping': False, 'epsilon': 1e-08, 'hidden_layer_sizes': (100, 1), 'learning_rate': 'constant', 'learning_rate_init': 0.001, 'max_fun': 15000, 'max_iter': 200, 'momentum': 0.9, 'n_iter_no_change': 10, 'nesterovs_momentum': True, 'power_t': 0.5, 'random_state': None, 'shuffle': True, 'solver': 'adam', 'tol': 0.0001, 'validation_fraction': 0.1, 'verbose': False, 'warm_start': False}\n",
      "\n",
      "Cross validated score using 4 folds:\n",
      "\n",
      " Accuracy: 0.53\n",
      "\n",
      " Precision: 0.27\n",
      "\n",
      " Recall: 0.50\n",
      "\n",
      " f1: 0.35\n",
      "\n",
      "Execution Time: 6.25s\n"
     ]
    },
    {
     "name": "stderr",
     "output_type": "stream",
     "text": [
      "C:\\Users\\Adz\\anaconda3\\Lib\\site-packages\\sklearn\\metrics\\_classification.py:1469: UndefinedMetricWarning: Precision is ill-defined and being set to 0.0 in labels with no predicted samples. Use `zero_division` parameter to control this behavior.\n",
      "  _warn_prf(average, modifier, msg_start, len(result))\n"
     ]
    }
   ],
   "source": [
    "NN_model = MLPClassifier(\n",
    "    hidden_layer_sizes=(100,1)\n",
    ")\n",
    "    \n",
    "getResults(NN_model)"
   ]
  },
  {
   "cell_type": "code",
   "execution_count": 8,
   "id": "2cf30a67",
   "metadata": {},
   "outputs": [
    {
     "name": "stdout",
     "output_type": "stream",
     "text": [
      "{'activation': 'relu', 'alpha': 0.0001, 'batch_size': 'auto', 'beta_1': 0.9, 'beta_2': 0.999, 'early_stopping': False, 'epsilon': 1e-08, 'hidden_layer_sizes': (200, 1), 'learning_rate': 'constant', 'learning_rate_init': 0.001, 'max_fun': 15000, 'max_iter': 200, 'momentum': 0.9, 'n_iter_no_change': 10, 'nesterovs_momentum': True, 'power_t': 0.5, 'random_state': None, 'shuffle': True, 'solver': 'adam', 'tol': 0.0001, 'validation_fraction': 0.1, 'verbose': False, 'warm_start': False}\n",
      "\n",
      "Cross validated score using 4 folds:\n",
      "\n",
      " Accuracy: 0.53\n",
      "\n",
      " Precision: 0.27\n",
      "\n",
      " Recall: 0.50\n",
      "\n",
      " f1: 0.35\n",
      "\n",
      "Execution Time: 7.96s\n"
     ]
    },
    {
     "name": "stderr",
     "output_type": "stream",
     "text": [
      "C:\\Users\\Adz\\anaconda3\\Lib\\site-packages\\sklearn\\metrics\\_classification.py:1469: UndefinedMetricWarning: Precision is ill-defined and being set to 0.0 in labels with no predicted samples. Use `zero_division` parameter to control this behavior.\n",
      "  _warn_prf(average, modifier, msg_start, len(result))\n"
     ]
    }
   ],
   "source": [
    "NN_model = MLPClassifier(\n",
    "    hidden_layer_sizes=(200,1)\n",
    ")\n",
    "    \n",
    "getResults(NN_model)"
   ]
  },
  {
   "cell_type": "markdown",
   "id": "7067d3f8",
   "metadata": {},
   "source": [
    "The validation curve was difficult to plot for hidden layes so was not completed. The number of layers didnt seem to make too much of a difference so it was kept at 100 to reduce processing time"
   ]
  },
  {
   "cell_type": "markdown",
   "id": "fbb42d39",
   "metadata": {},
   "source": [
    "# Find Optimal values for iterations rate\n",
    "Testing number of iterations"
   ]
  },
  {
   "cell_type": "code",
   "execution_count": 9,
   "id": "1027ba4c",
   "metadata": {},
   "outputs": [
    {
     "name": "stdout",
     "output_type": "stream",
     "text": [
      "{'activation': 'relu', 'alpha': 0.0001, 'batch_size': 'auto', 'beta_1': 0.9, 'beta_2': 0.999, 'early_stopping': False, 'epsilon': 1e-08, 'hidden_layer_sizes': (100,), 'learning_rate': 'constant', 'learning_rate_init': 0.001, 'max_fun': 15000, 'max_iter': 10, 'momentum': 0.9, 'n_iter_no_change': 10, 'nesterovs_momentum': True, 'power_t': 0.5, 'random_state': None, 'shuffle': True, 'solver': 'adam', 'tol': 0.0001, 'validation_fraction': 0.1, 'verbose': False, 'warm_start': False}\n",
      "\n",
      "Cross validated score using 4 folds:\n",
      "\n",
      " Accuracy: 0.48\n",
      "\n",
      " Precision: 0.58\n",
      "\n",
      " Recall: 0.51\n",
      "\n",
      " f1: 0.37\n",
      "\n",
      "Execution Time: 3.34s\n"
     ]
    },
    {
     "name": "stderr",
     "output_type": "stream",
     "text": [
      "C:\\Users\\Adz\\anaconda3\\Lib\\site-packages\\sklearn\\neural_network\\_multilayer_perceptron.py:691: ConvergenceWarning: Stochastic Optimizer: Maximum iterations (10) reached and the optimization hasn't converged yet.\n",
      "  warnings.warn(\n"
     ]
    }
   ],
   "source": [
    "NN_model = MLPClassifier(\n",
    "    max_iter=10 \n",
    ")\n",
    "getResults(NN_model)"
   ]
  },
  {
   "cell_type": "code",
   "execution_count": 10,
   "id": "df0da738",
   "metadata": {},
   "outputs": [
    {
     "name": "stdout",
     "output_type": "stream",
     "text": [
      "{'activation': 'relu', 'alpha': 0.0001, 'batch_size': 'auto', 'beta_1': 0.9, 'beta_2': 0.999, 'early_stopping': False, 'epsilon': 1e-08, 'hidden_layer_sizes': (100,), 'learning_rate': 'constant', 'learning_rate_init': 0.001, 'max_fun': 15000, 'max_iter': 100, 'momentum': 0.9, 'n_iter_no_change': 10, 'nesterovs_momentum': True, 'power_t': 0.5, 'random_state': None, 'shuffle': True, 'solver': 'adam', 'tol': 0.0001, 'validation_fraction': 0.1, 'verbose': False, 'warm_start': False}\n",
      "\n",
      "Cross validated score using 4 folds:\n",
      "\n",
      " Accuracy: 0.57\n",
      "\n",
      " Precision: 0.58\n",
      "\n",
      " Recall: 0.58\n",
      "\n",
      " f1: 0.57\n",
      "\n",
      "Execution Time: 10.18s\n"
     ]
    }
   ],
   "source": [
    "NN_model = MLPClassifier(\n",
    "    max_iter=100 \n",
    ")\n",
    "getResults(NN_model)"
   ]
  },
  {
   "cell_type": "code",
   "execution_count": 11,
   "id": "f3bb7c1d",
   "metadata": {},
   "outputs": [
    {
     "name": "stdout",
     "output_type": "stream",
     "text": [
      "{'activation': 'relu', 'alpha': 0.0001, 'batch_size': 'auto', 'beta_1': 0.9, 'beta_2': 0.999, 'early_stopping': False, 'epsilon': 1e-08, 'hidden_layer_sizes': (100,), 'learning_rate': 'constant', 'learning_rate_init': 0.001, 'max_fun': 15000, 'max_iter': 1000, 'momentum': 0.9, 'n_iter_no_change': 10, 'nesterovs_momentum': True, 'power_t': 0.5, 'random_state': None, 'shuffle': True, 'solver': 'adam', 'tol': 0.0001, 'validation_fraction': 0.1, 'verbose': False, 'warm_start': False}\n",
      "\n",
      "Cross validated score using 4 folds:\n",
      "\n",
      " Accuracy: 0.56\n",
      "\n",
      " Precision: 0.59\n",
      "\n",
      " Recall: 0.57\n",
      "\n",
      " f1: 0.54\n",
      "\n",
      "Execution Time: 23.14s\n"
     ]
    }
   ],
   "source": [
    "NN_model = MLPClassifier(\n",
    "    max_iter=1000\n",
    ")\n",
    "getResults(NN_model)"
   ]
  },
  {
   "cell_type": "code",
   "execution_count": 12,
   "id": "3e2007a2",
   "metadata": {},
   "outputs": [
    {
     "data": {
      "image/png": "[encoded data removed]",
      "text/plain": [
       "<Figure size 640x480 with 1 Axes>"
      ]
     },
     "metadata": {},
     "output_type": "display_data"
    }
   ],
   "source": [
    "displayValidationCurve(MLPClassifier(), \"hidden_layer_sizes\", [10, 100, 200], \"Accuracy\")"
   ]
  },
  {
   "cell_type": "markdown",
   "id": "60614f9b",
   "metadata": {},
   "source": [
    "The number of iterations seems to perform best around 100, so we set it at that."
   ]
  },
  {
   "cell_type": "markdown",
   "id": "7dbe47a3",
   "metadata": {},
   "source": [
    "# Find optimal values of alpha\n",
    "Testing types of activation"
   ]
  },
  {
   "cell_type": "code",
   "execution_count": 13,
   "id": "905aedf4",
   "metadata": {},
   "outputs": [
    {
     "name": "stdout",
     "output_type": "stream",
     "text": [
      "{'activation': 'relu', 'alpha': 0.0001, 'batch_size': 'auto', 'beta_1': 0.9, 'beta_2': 0.999, 'early_stopping': False, 'epsilon': 1e-08, 'hidden_layer_sizes': (100,), 'learning_rate': 'constant', 'learning_rate_init': 0.001, 'max_fun': 15000, 'max_iter': 200, 'momentum': 0.9, 'n_iter_no_change': 10, 'nesterovs_momentum': True, 'power_t': 0.5, 'random_state': None, 'shuffle': True, 'solver': 'adam', 'tol': 0.0001, 'validation_fraction': 0.1, 'verbose': False, 'warm_start': False}\n",
      "\n",
      "Cross validated score using 4 folds:\n",
      "\n",
      " Accuracy: 0.54\n",
      "\n",
      " Precision: 0.59\n",
      "\n",
      " Recall: 0.56\n",
      "\n",
      " f1: 0.52\n",
      "\n",
      "Execution Time: 14.05s\n"
     ]
    }
   ],
   "source": [
    "NN_model = MLPClassifier(\n",
    "    alpha=0.0001\n",
    ")\n",
    "getResults(NN_model)"
   ]
  },
  {
   "cell_type": "code",
   "execution_count": 14,
   "id": "443ce6c0",
   "metadata": {},
   "outputs": [
    {
     "name": "stdout",
     "output_type": "stream",
     "text": [
      "{'activation': 'relu', 'alpha': 0.001, 'batch_size': 'auto', 'beta_1': 0.9, 'beta_2': 0.999, 'early_stopping': False, 'epsilon': 1e-08, 'hidden_layer_sizes': (100,), 'learning_rate': 'constant', 'learning_rate_init': 0.001, 'max_fun': 15000, 'max_iter': 200, 'momentum': 0.9, 'n_iter_no_change': 10, 'nesterovs_momentum': True, 'power_t': 0.5, 'random_state': None, 'shuffle': True, 'solver': 'adam', 'tol': 0.0001, 'validation_fraction': 0.1, 'verbose': False, 'warm_start': False}\n",
      "\n",
      "Cross validated score using 4 folds:\n",
      "\n",
      " Accuracy: 0.59\n",
      "\n",
      " Precision: 0.66\n",
      "\n",
      " Recall: 0.56\n",
      "\n",
      " f1: 0.49\n",
      "\n",
      "Execution Time: 12.67s\n"
     ]
    }
   ],
   "source": [
    "NN_model = MLPClassifier(\n",
    "    alpha=0.001\n",
    ")\n",
    "getResults(NN_model)"
   ]
  },
  {
   "cell_type": "code",
   "execution_count": 15,
   "id": "2f1c29e8",
   "metadata": {},
   "outputs": [
    {
     "name": "stdout",
     "output_type": "stream",
     "text": [
      "{'activation': 'relu', 'alpha': 0.01, 'batch_size': 'auto', 'beta_1': 0.9, 'beta_2': 0.999, 'early_stopping': False, 'epsilon': 1e-08, 'hidden_layer_sizes': (100,), 'learning_rate': 'constant', 'learning_rate_init': 0.001, 'max_fun': 15000, 'max_iter': 200, 'momentum': 0.9, 'n_iter_no_change': 10, 'nesterovs_momentum': True, 'power_t': 0.5, 'random_state': None, 'shuffle': True, 'solver': 'adam', 'tol': 0.0001, 'validation_fraction': 0.1, 'verbose': False, 'warm_start': False}\n",
      "\n",
      "Cross validated score using 4 folds:\n",
      "\n",
      " Accuracy: 0.47\n",
      "\n",
      " Precision: 0.65\n",
      "\n",
      " Recall: 0.50\n",
      "\n",
      " f1: 0.33\n",
      "\n",
      "Execution Time: 16.24s\n"
     ]
    }
   ],
   "source": [
    "NN_model = MLPClassifier(\n",
    "    alpha=0.01\n",
    ")\n",
    "getResults(NN_model)"
   ]
  },
  {
   "cell_type": "code",
   "execution_count": 16,
   "id": "46b72563",
   "metadata": {},
   "outputs": [
    {
     "name": "stdout",
     "output_type": "stream",
     "text": [
      "{'activation': 'relu', 'alpha': 0.1, 'batch_size': 'auto', 'beta_1': 0.9, 'beta_2': 0.999, 'early_stopping': False, 'epsilon': 1e-08, 'hidden_layer_sizes': (100,), 'learning_rate': 'constant', 'learning_rate_init': 0.001, 'max_fun': 15000, 'max_iter': 200, 'momentum': 0.9, 'n_iter_no_change': 10, 'nesterovs_momentum': True, 'power_t': 0.5, 'random_state': None, 'shuffle': True, 'solver': 'adam', 'tol': 0.0001, 'validation_fraction': 0.1, 'verbose': False, 'warm_start': False}\n",
      "\n",
      "Cross validated score using 4 folds:\n",
      "\n",
      " Accuracy: 0.60\n",
      "\n",
      " Precision: 0.60\n",
      "\n",
      " Recall: 0.59\n",
      "\n",
      " f1: 0.58\n",
      "\n",
      "Execution Time: 13.41s\n"
     ]
    }
   ],
   "source": [
    "NN_model = MLPClassifier(\n",
    "    alpha=0.1\n",
    ")\n",
    "getResults(NN_model)"
   ]
  },
  {
   "cell_type": "markdown",
   "id": "786ce06b",
   "metadata": {},
   "source": [
    "The alpha that had the most effect on the accuracy was a value of 0.1"
   ]
  },
  {
   "cell_type": "markdown",
   "id": "25c5cf5c",
   "metadata": {},
   "source": [
    "# Final Model"
   ]
  },
  {
   "cell_type": "code",
   "execution_count": 23,
   "id": "27c510cb",
   "metadata": {},
   "outputs": [
    {
     "name": "stdout",
     "output_type": "stream",
     "text": [
      "\n",
      "Model Performance:\n",
      "Accuracy: 0.54\n",
      "Precision: 0.27\n",
      "Recall: 0.50\n",
      "F1 Score: 0.35\n"
     ]
    },
    {
     "name": "stderr",
     "output_type": "stream",
     "text": [
      "C:\\Users\\Adz\\anaconda3\\Lib\\site-packages\\sklearn\\metrics\\_classification.py:1469: UndefinedMetricWarning: Precision is ill-defined and being set to 0.0 in labels with no predicted samples. Use `zero_division` parameter to control this behavior.\n",
      "  _warn_prf(average, modifier, msg_start, len(result))\n"
     ]
    }
   ],
   "source": [
    "X_train, X_test, y_train, y_test = train_test_split(X_encoded, y_encoded, test_size=0.25)\n",
    "\n",
    "NN_model = MLPClassifier(hidden_layer_sizes=(100, 1),alpha=0.1, max_iter=100)\n",
    "NN_model.fit(X_train, y_train)\n",
    "y_pred = NN_model.predict(X_test)\n",
    "\n",
    "# Evaluate the model\n",
    "accuracy = accuracy_score(y_test, y_pred)\n",
    "precision = precision_score(y_test, y_pred, average='macro')\n",
    "recall = recall_score(y_test, y_pred, average='macro')\n",
    "f1 = f1_score(y_test, y_pred, average='macro')\n",
    "\n",
    "# Print performance metrics\n",
    "print(\"\\nModel Performance:\")\n",
    "print(f\"Accuracy: {accuracy:.2f}\")\n",
    "print(f\"Precision: {precision:.2f}\")\n",
    "print(f\"Recall: {recall:.2f}\")\n",
    "print(f\"F1 Score: {f1:.2f}\")"
   ]
  },
  {
   "cell_type": "code",
   "execution_count": null,
   "id": "1ea2fa54",
   "metadata": {},
   "outputs": [],
   "source": []
  }
 ],
 "metadata": {
  "kernelspec": {
   "display_name": "Python 3 (ipykernel)",
   "language": "python",
   "name": "python3"
  },
  "language_info": {
   "codemirror_mode": {
    "name": "ipython",
    "version": 3
   },
   "file_extension": ".py",
   "mimetype": "text/x-python",
   "name": "python",
   "nbconvert_exporter": "python",
   "pygments_lexer": "ipython3",
   "version": "3.11.4"
  }
 },
 "nbformat": 4,
 "nbformat_minor": 5
}
